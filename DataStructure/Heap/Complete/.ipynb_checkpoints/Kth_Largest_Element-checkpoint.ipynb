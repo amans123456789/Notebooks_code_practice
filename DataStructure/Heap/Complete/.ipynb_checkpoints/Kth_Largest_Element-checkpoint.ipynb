{
 "cells": [
  {
   "cell_type": "markdown",
   "id": "af09b49c",
   "metadata": {},
   "source": [
    "Problem Source: https://leetcode.com/problems/kth-largest-element-in-an-array/"
   ]
  },
  {
   "cell_type": "markdown",
   "id": "4986969b",
   "metadata": {},
   "source": [
    "Given an integer array nums and an integer k, return the kth largest element in the array."
   ]
  },
  {
   "cell_type": "markdown",
   "id": "027fd445",
   "metadata": {},
   "source": [
    "Solution: https://www.geeksforgeeks.org/k-largestor-smallest-elements-in-an-array/"
   ]
  },
  {
   "cell_type": "code",
   "execution_count": 1,
   "id": "40c13634",
   "metadata": {},
   "outputs": [],
   "source": [
    "nums = [3,2,1,5,6,4]\n",
    "k = 2"
   ]
  },
  {
   "cell_type": "code",
   "execution_count": 2,
   "id": "6dc9c9df",
   "metadata": {},
   "outputs": [],
   "source": [
    "def Heapify(nums, i, N):\n",
    "    largest = i\n",
    "    l = 2 * i + 1\n",
    "    r = 2 * i + 2\n",
    "    \n",
    "    if l < N and nums[l] > nums[largest]:\n",
    "        largest = l\n",
    "    if r < N and nums[r] > nums[largest]:\n",
    "        largest = r\n",
    "        \n",
    "    if largest != i:\n",
    "        nums[i], nums[largest] =  nums[largest], nums[i]\n",
    "    \n",
    "        Heapify(nums, largest, N)\n",
    "    "
   ]
  },
  {
   "cell_type": "code",
   "execution_count": 3,
   "id": "8c11bfd2",
   "metadata": {},
   "outputs": [],
   "source": [
    "# Heapify(nums,0)"
   ]
  },
  {
   "cell_type": "code",
   "execution_count": 4,
   "id": "71bde186",
   "metadata": {},
   "outputs": [],
   "source": [
    "def buildHeap(arr,N):\n",
    "#     N = len(nums)\n",
    "\n",
    "    # Index of last non-leaf node\n",
    "    startIdx = N // 2 - 1\n",
    " \n",
    "    # Perform reverse level order traversal\n",
    "    # from last non-leaf node and heapify\n",
    "    # each node\n",
    "    for i in range(startIdx, -1, -1):\n",
    "        print(i)\n",
    "        Heapify(arr, i,N)"
   ]
  },
  {
   "cell_type": "code",
   "execution_count": 5,
   "id": "a92fc28f",
   "metadata": {},
   "outputs": [
    {
     "name": "stdout",
     "output_type": "stream",
     "text": [
      "2\n",
      "1\n",
      "0\n"
     ]
    }
   ],
   "source": [
    "buildHeap(nums, len(nums))"
   ]
  },
  {
   "cell_type": "code",
   "execution_count": 6,
   "id": "de0671e3",
   "metadata": {},
   "outputs": [],
   "source": [
    "def print_heap(nums):\n",
    "    N = len(nums)\n",
    "    \n",
    "    buildHeap(nums, N)\n",
    "    \n",
    "    for i in range(N):\n",
    "        print(nums[i])"
   ]
  },
  {
   "cell_type": "code",
   "execution_count": 7,
   "id": "0d8ed1b6",
   "metadata": {},
   "outputs": [
    {
     "name": "stdout",
     "output_type": "stream",
     "text": [
      "2\n",
      "1\n",
      "0\n",
      "6\n",
      "5\n",
      "4\n",
      "3\n",
      "2\n",
      "1\n"
     ]
    }
   ],
   "source": [
    "print_heap(nums )"
   ]
  },
  {
   "cell_type": "code",
   "execution_count": 32,
   "id": "4880786c",
   "metadata": {},
   "outputs": [
    {
     "data": {
      "text/plain": [
       "4"
      ]
     },
     "execution_count": 32,
     "metadata": {},
     "output_type": "execute_result"
    }
   ],
   "source": [
    "nums.pop(2)"
   ]
  },
  {
   "cell_type": "raw",
   "id": "8477e0ae",
   "metadata": {},
   "source": [
    "Time Complexity of building a max(or min) heap : N * log(N)"
   ]
  },
  {
   "cell_type": "raw",
   "id": "eb1dcfff",
   "metadata": {},
   "source": [
    "if element is extracted from 1 end of the heap, time complexity of extracting Kth element is : K * log(N)\n",
    "\n",
    "Time of extracting an element and recreating a heap is log(N) multiplied  by K elements"
   ]
  },
  {
   "cell_type": "raw",
   "id": "fcd75ed3",
   "metadata": {},
   "source": [
    "Total complexity of max Heap based removal - (N + K) * log(N)"
   ]
  },
  {
   "cell_type": "markdown",
   "id": "12c5be51",
   "metadata": {},
   "source": [
    "#### Min Heap based"
   ]
  },
  {
   "cell_type": "code",
   "execution_count": 13,
   "id": "f8227e47",
   "metadata": {},
   "outputs": [],
   "source": [
    "nums = [3,2,1,5,6,4]\n",
    "k = 2"
   ]
  },
  {
   "cell_type": "code",
   "execution_count": 14,
   "id": "0a85bb4d",
   "metadata": {},
   "outputs": [],
   "source": [
    "# nums = [1, 3, 2, 9, 4, 5]\n",
    "# k = 2"
   ]
  },
  {
   "cell_type": "code",
   "execution_count": 15,
   "id": "82511ef4",
   "metadata": {},
   "outputs": [],
   "source": [
    "N = len(nums)"
   ]
  },
  {
   "cell_type": "code",
   "execution_count": 16,
   "id": "9ac3b43e",
   "metadata": {},
   "outputs": [],
   "source": [
    "import heapq as hq\n",
    "hq.heapify(nums)"
   ]
  },
  {
   "cell_type": "code",
   "execution_count": 17,
   "id": "da7a4493",
   "metadata": {},
   "outputs": [
    {
     "data": {
      "text/plain": [
       "[1, 2, 3, 5, 6, 4]"
      ]
     },
     "execution_count": 17,
     "metadata": {},
     "output_type": "execute_result"
    }
   ],
   "source": [
    "nums"
   ]
  },
  {
   "cell_type": "code",
   "execution_count": null,
   "id": "56299b40",
   "metadata": {},
   "outputs": [],
   "source": []
  }
 ],
 "metadata": {
  "kernelspec": {
   "display_name": "Python 3 (ipykernel)",
   "language": "python",
   "name": "python3"
  },
  "language_info": {
   "codemirror_mode": {
    "name": "ipython",
    "version": 3
   },
   "file_extension": ".py",
   "mimetype": "text/x-python",
   "name": "python",
   "nbconvert_exporter": "python",
   "pygments_lexer": "ipython3",
   "version": "3.9.12"
  }
 },
 "nbformat": 4,
 "nbformat_minor": 5
}
