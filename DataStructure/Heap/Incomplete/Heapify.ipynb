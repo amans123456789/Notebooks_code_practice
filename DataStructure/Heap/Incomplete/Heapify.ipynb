{
 "cells": [
  {
   "cell_type": "raw",
   "id": "514dabed",
   "metadata": {},
   "source": [
    "Heapify:\n",
    "Complexity is O(n) and not n*O(log(n) )\n",
    "https://www.geeksforgeeks.org/building-heap-from-array/"
   ]
  },
  {
   "cell_type": "raw",
   "id": "707813f3",
   "metadata": {},
   "source": [
    "Build Heap : https://www.geeksforgeeks.org/building-heap-from-array/"
   ]
  },
  {
   "cell_type": "code",
   "execution_count": 1,
   "id": "e863a835",
   "metadata": {},
   "outputs": [],
   "source": [
    "array = [1, 3, 5, 4, 6, 13, 10, 9, 8, 15, 17]"
   ]
  },
  {
   "cell_type": "code",
   "execution_count": 31,
   "id": "76074bba",
   "metadata": {},
   "outputs": [],
   "source": [
    "def Heapify(arr, n, i):\n",
    "    largest = i\n",
    "    l = 2 * i + 1\n",
    "    r = 2 * i + 2\n",
    "    print(l, n)\n",
    "    if l < n & arr[l] > arr[largest]:\n",
    "        largest = l\n",
    "        \n",
    "    if r < n & arr[r] > arr[largest]:\n",
    "        largest = r\n",
    "        \n",
    "    if largest != i:\n",
    "        arr[i], arr[largest] = arr[largest], arr[i]\n",
    "        Heapify(arr, n, largest)"
   ]
  },
  {
   "cell_type": "code",
   "execution_count": 32,
   "id": "15629600",
   "metadata": {},
   "outputs": [],
   "source": [
    "def heapify(arr, N, i):\n",
    " \n",
    "    largest = i  # Initialize largest as root\n",
    "    l = 2 * i + 1  # left = 2*i + 1\n",
    "    r = 2 * i + 2  # right = 2*i + 2\n",
    " \n",
    "    # If left child is larger than root\n",
    "    if l < N and arr[l] > arr[largest]:\n",
    "        largest = l\n",
    " \n",
    "    # If right child is larger than largest so far\n",
    "    if r < N and arr[r] > arr[largest]:\n",
    "        largest = r\n",
    " \n",
    "    # If largest is not root\n",
    "    if largest != i:\n",
    "        arr[i], arr[largest] = arr[largest], arr[i]\n",
    " \n",
    "        # Recursively heapify the affected sub-tree\n",
    "        heapify(arr, N, largest)\n",
    " \n",
    " \n",
    "def buildHeap(arr, N):\n",
    " \n",
    "    # Index of last non-leaf node\n",
    "    startIdx = N // 2 - 1\n",
    " \n",
    "    # Perform reverse level order traversal\n",
    "    # from last non-leaf node and heapify\n",
    "    # each node\n",
    "    for i in range(startIdx, -1, -1):\n",
    "        heapify(arr, N, i)"
   ]
  },
  {
   "cell_type": "code",
   "execution_count": 33,
   "id": "b177cbed",
   "metadata": {},
   "outputs": [],
   "source": [
    "def printHeap(arr, N):\n",
    "    print(\"Array representation of Heap is:\")\n",
    " \n",
    "    for i in range(N):\n",
    "        print(arr[i], end=\" \")\n",
    "    print()"
   ]
  },
  {
   "cell_type": "code",
   "execution_count": 34,
   "id": "bc305a59",
   "metadata": {},
   "outputs": [],
   "source": [
    "buildHeap(array, len(array))"
   ]
  },
  {
   "cell_type": "code",
   "execution_count": 35,
   "id": "ed41d326",
   "metadata": {},
   "outputs": [
    {
     "name": "stdout",
     "output_type": "stream",
     "text": [
      "Array representation of Heap is:\n",
      "17 15 13 9 6 5 10 4 8 1 3 \n"
     ]
    }
   ],
   "source": [
    "printHeap(array, len(array))"
   ]
  },
  {
   "cell_type": "code",
   "execution_count": null,
   "id": "5f112d6d",
   "metadata": {},
   "outputs": [],
   "source": []
  }
 ],
 "metadata": {
  "kernelspec": {
   "display_name": "Python 3 (ipykernel)",
   "language": "python",
   "name": "python3"
  },
  "language_info": {
   "codemirror_mode": {
    "name": "ipython",
    "version": 3
   },
   "file_extension": ".py",
   "mimetype": "text/x-python",
   "name": "python",
   "nbconvert_exporter": "python",
   "pygments_lexer": "ipython3",
   "version": "3.9.12"
  }
 },
 "nbformat": 4,
 "nbformat_minor": 5
}
