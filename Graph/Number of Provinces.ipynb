{
 "cells": [
  {
   "cell_type": "markdown",
   "id": "ebb0db60",
   "metadata": {},
   "source": [
    "https://leetcode.com/problems/number-of-provinces/"
   ]
  },
  {
   "cell_type": "code",
   "execution_count": 1,
   "id": "81db9414",
   "metadata": {},
   "outputs": [],
   "source": [
    "isConnected = [[1,1,0],[1,1,0],[0,0,1]]\n",
    "isConnected = [[1,0,0],[0,1,0],[0,0,1]]\n",
    "Output: 2"
   ]
  },
  {
   "cell_type": "code",
   "execution_count": 2,
   "id": "a3115797",
   "metadata": {},
   "outputs": [],
   "source": [
    "isConnected = [[1,0,0,0,0,0,0,0,0,1,0,0,0,0,0],[0,1,0,1,0,0,0,0,0,0,0,0,0,1,0],[0,0,1,0,0,0,0,0,0,0,0,0,0,0,0],[0,1,0,1,0,0,0,1,0,0,0,1,0,0,0],[0,0,0,0,1,0,0,0,0,0,0,0,1,0,0],[0,0,0,0,0,1,0,0,0,0,0,0,0,0,0],[0,0,0,0,0,0,1,0,0,0,0,0,0,0,0],[0,0,0,1,0,0,0,1,1,0,0,0,0,0,0],[0,0,0,0,0,0,0,1,1,0,0,0,0,0,0],[1,0,0,0,0,0,0,0,0,1,0,0,0,0,0],[0,0,0,0,0,0,0,0,0,0,1,0,0,0,0],[0,0,0,1,0,0,0,0,0,0,0,1,0,0,0],[0,0,0,0,1,0,0,0,0,0,0,0,1,0,0],[0,1,0,0,0,0,0,0,0,0,0,0,0,1,0],[0,0,0,0,0,0,0,0,0,0,0,0,0,0,1]]"
   ]
  },
  {
   "cell_type": "code",
   "execution_count": 3,
   "id": "482cc3c3",
   "metadata": {},
   "outputs": [],
   "source": [
    "# isConnected = [[1,1,1],[1,1,1],[1,1,1]]\n",
    "isConnected =[[1,1,1,1,1],[1,1,1,1,1],[1,1,1,1,1],[1,1,1,1,1],[1,1,1,1,1]]\n",
    "\n",
    "\n",
    "# isConnected = [[1,1,0],[1,1,0],[0,0,1]]\n"
   ]
  },
  {
   "cell_type": "code",
   "execution_count": 4,
   "id": "ba2fa890",
   "metadata": {},
   "outputs": [
    {
     "data": {
      "text/plain": [
       "5"
      ]
     },
     "execution_count": 4,
     "metadata": {},
     "output_type": "execute_result"
    }
   ],
   "source": [
    "len(isConnected)"
   ]
  },
  {
   "cell_type": "code",
   "execution_count": 5,
   "id": "907b04e2",
   "metadata": {},
   "outputs": [
    {
     "data": {
      "text/plain": [
       "5"
      ]
     },
     "execution_count": 5,
     "metadata": {},
     "output_type": "execute_result"
    }
   ],
   "source": [
    "len(isConnected[0])"
   ]
  },
  {
   "cell_type": "code",
   "execution_count": 6,
   "id": "b9ceb5af",
   "metadata": {},
   "outputs": [],
   "source": [
    "connections = {}\n",
    "for i in range(len(isConnected)):\n",
    "    connections[i] = []\n",
    "    for j in range(i+1,len(isConnected[0])):\n",
    "        if isConnected[i][j] == 1:\n",
    "            \n",
    "            connections[i].append(j)"
   ]
  },
  {
   "cell_type": "code",
   "execution_count": 7,
   "id": "0c9daffc",
   "metadata": {},
   "outputs": [
    {
     "data": {
      "text/plain": [
       "{0: [1, 2, 3, 4], 1: [2, 3, 4], 2: [3, 4], 3: [4], 4: []}"
      ]
     },
     "execution_count": 7,
     "metadata": {},
     "output_type": "execute_result"
    }
   ],
   "source": [
    "connections"
   ]
  },
  {
   "cell_type": "code",
   "execution_count": 35,
   "id": "30d9b1ee",
   "metadata": {},
   "outputs": [],
   "source": [
    "# connections[0]"
   ]
  },
  {
   "cell_type": "code",
   "execution_count": 48,
   "id": "d8b0f1a8",
   "metadata": {},
   "outputs": [],
   "source": [
    "connection_count = 0\n",
    "for i in connections.keys():\n",
    "    for j in connections[i]:\n",
    "        connection_count = connection_count + 1"
   ]
  },
  {
   "cell_type": "code",
   "execution_count": null,
   "id": "75d3f8cc",
   "metadata": {},
   "outputs": [],
   "source": []
  },
  {
   "cell_type": "code",
   "execution_count": 50,
   "id": "19f07295",
   "metadata": {},
   "outputs": [
    {
     "name": "stdout",
     "output_type": "stream",
     "text": [
      "1\n"
     ]
    }
   ],
   "source": [
    "if len(isConnected) == connection_count:\n",
    "    print(1)\n",
    "else:\n",
    "    len(isConnected) - connection_count"
   ]
  },
  {
   "cell_type": "markdown",
   "id": "b995d06c",
   "metadata": {},
   "source": [
    "#### Depth First Search"
   ]
  },
  {
   "cell_type": "code",
   "execution_count": 102,
   "id": "0d53f08c",
   "metadata": {},
   "outputs": [],
   "source": [
    "isConnected = [[1,1,0],[1,1,0],[0,0,1]]\n",
    "# isConnected =[[1,1,1,1,1],[1,1,1,1,1],[1,1,1,1,1],[1,1,1,1,1],[1,1,1,1,1]]\n"
   ]
  },
  {
   "cell_type": "code",
   "execution_count": 103,
   "id": "aa7bceef",
   "metadata": {},
   "outputs": [],
   "source": [
    "connections = {}\n",
    "\n",
    "def connections_list(isConnected):\n",
    "    for i in range(len(isConnected)):\n",
    "        connections[i] = []\n",
    "        for j in range(len(isConnected[0])):\n",
    "            if isConnected[i][j] == 1:\n",
    "\n",
    "                connections[i].append(j)\n",
    "    return connections"
   ]
  },
  {
   "cell_type": "code",
   "execution_count": 104,
   "id": "e9d694cf",
   "metadata": {},
   "outputs": [
    {
     "data": {
      "text/plain": [
       "{0: [0, 1], 1: [0, 1], 2: [2]}"
      ]
     },
     "execution_count": 104,
     "metadata": {},
     "output_type": "execute_result"
    }
   ],
   "source": [
    "connections = connections_list(isConnected)\n",
    "connections"
   ]
  },
  {
   "cell_type": "code",
   "execution_count": 105,
   "id": "b9f52e0f",
   "metadata": {},
   "outputs": [],
   "source": [
    "# connections = {}\n",
    "# visited = []\n",
    "# count = 0\n",
    "# for i in range(len(isConnected)):\n",
    "#     connections[i] = []\n",
    "#     for j in range(i+1,len(isConnected[0])):\n",
    "        "
   ]
  },
  {
   "cell_type": "code",
   "execution_count": 106,
   "id": "1c01c62a",
   "metadata": {},
   "outputs": [],
   "source": [
    "visited = []"
   ]
  },
  {
   "cell_type": "code",
   "execution_count": 107,
   "id": "651ad9c6",
   "metadata": {},
   "outputs": [],
   "source": [
    "def dfs(connections,i):\n",
    "    if i not in visited:\n",
    "        visited.append(i)\n",
    "\n",
    "        for j in connections[i]:\n",
    "            if j not in visited:\n",
    "                dfs(connections,j)\n",
    "\n",
    "    return visited"
   ]
  },
  {
   "cell_type": "code",
   "execution_count": 108,
   "id": "3f839f5f",
   "metadata": {},
   "outputs": [
    {
     "data": {
      "text/plain": [
       "[0, 1]"
      ]
     },
     "execution_count": 108,
     "metadata": {},
     "output_type": "execute_result"
    }
   ],
   "source": [
    "dfs(connections,0)\n",
    "visited"
   ]
  },
  {
   "cell_type": "code",
   "execution_count": 109,
   "id": "607d3fe3",
   "metadata": {},
   "outputs": [
    {
     "name": "stdout",
     "output_type": "stream",
     "text": [
      "[0, 1]\n",
      "[0, 1, 2]\n"
     ]
    }
   ],
   "source": [
    "count = 0\n",
    "l = 0\n",
    "visited = []\n",
    "for k in connections.keys(): \n",
    "    if k not in visited:\n",
    "\n",
    "        res = ( dfs(connections,k))\n",
    "        print(res)\n",
    "        \n",
    "        count = count + 1\n",
    "    "
   ]
  },
  {
   "cell_type": "code",
   "execution_count": 110,
   "id": "070682cf",
   "metadata": {},
   "outputs": [
    {
     "data": {
      "text/plain": [
       "2"
      ]
     },
     "execution_count": 110,
     "metadata": {},
     "output_type": "execute_result"
    }
   ],
   "source": [
    "count"
   ]
  },
  {
   "cell_type": "code",
   "execution_count": 99,
   "id": "ba233e5c",
   "metadata": {},
   "outputs": [
    {
     "data": {
      "text/plain": [
       "{0: 2, 1: 2, 2: 1}"
      ]
     },
     "execution_count": 99,
     "metadata": {},
     "output_type": "execute_result"
    }
   ],
   "source": [
    "for i in count.keys():\n",
    "    count[i] "
   ]
  },
  {
   "cell_type": "markdown",
   "id": "0ce0d873",
   "metadata": {},
   "source": [
    "#### Probable Solution Markdown: https://leetcode.com/problems/number-of-provinces/solutions/3708225/python-simple-clean-solution-using-dfs/"
   ]
  },
  {
   "cell_type": "raw",
   "id": "4ec6ea62",
   "metadata": {},
   "source": [
    "Final Solution Submitted on Leetcode \n",
    "https://leetcode.com/problems/number-of-provinces/submissions/\n",
    "is written below"
   ]
  },
  {
   "cell_type": "code",
   "execution_count": 123,
   "id": "106ba2d7",
   "metadata": {},
   "outputs": [],
   "source": [
    "def findCircleNum( isConnected):\n",
    "    v = [False] * len(isConnected)\n",
    "    count = 0\n",
    "    def dfs(i):\n",
    "        for j in range(len(isConnected)):\n",
    "            print(k,i,j)\n",
    "            if isConnected[i][j] and not v[j]:\n",
    "                v[j] = True\n",
    "                dfs(j)\n",
    "    for k in range(len(isConnected)):\n",
    "        if not v[k]:\n",
    "#             print(k, v)\n",
    "            dfs(k)\n",
    "            print(k, v)\n",
    "\n",
    "            count = count + 1\n",
    "    return count"
   ]
  },
  {
   "cell_type": "code",
   "execution_count": 124,
   "id": "3cec7e0d",
   "metadata": {},
   "outputs": [
    {
     "name": "stdout",
     "output_type": "stream",
     "text": [
      "0 0 0\n",
      "0 0 0\n",
      "0 0 1\n",
      "0 1 0\n",
      "0 1 1\n",
      "0 1 2\n",
      "0 0 2\n",
      "0 0 1\n",
      "0 0 2\n",
      "0 [True, True, False]\n",
      "2 2 0\n",
      "2 2 1\n",
      "2 2 2\n",
      "2 2 0\n",
      "2 2 1\n",
      "2 2 2\n",
      "2 [True, True, True]\n"
     ]
    },
    {
     "data": {
      "text/plain": [
       "2"
      ]
     },
     "execution_count": 124,
     "metadata": {},
     "output_type": "execute_result"
    }
   ],
   "source": [
    "findCircleNum( isConnected)"
   ]
  },
  {
   "cell_type": "code",
   "execution_count": null,
   "id": "f8b00fdb",
   "metadata": {},
   "outputs": [],
   "source": [
    "def findCircleNum( isConnected):\n",
    "    \"\"\"\n",
    "    :type isConnected: List[List[int]]\n",
    "    :rtype: int\n",
    "    \"\"\"\n",
    "    count = 0\n",
    "    visited = []\n",
    "\n",
    "    connections = {}\n",
    "\n",
    "    def connections_list(isConnected):\n",
    "        for i in range(len(isConnected)):\n",
    "            connections[i] = []\n",
    "            for j in range(len(isConnected[0])):\n",
    "                if isConnected[i][j] == 1:\n",
    "\n",
    "                    connections[i].append(j)\n",
    "        return connections\n",
    "\n",
    "\n",
    "    def dfs(connections,i):\n",
    "        if i not in visited:\n",
    "            visited.append(i)\n",
    "\n",
    "            for j in connections[i]:\n",
    "                if j not in visited:\n",
    "                    dfs(connections,j)\n",
    "\n",
    "        return visited    \n",
    "\n",
    "\n",
    "    connections = connections_list(isConnected)\n",
    "\n",
    "\n",
    "    for k in connections.keys(): \n",
    "        if k not in visited:\n",
    "\n",
    "            res = ( dfs(connections,k))\n",
    "            print(res)\n",
    "\n",
    "            count = count + 1\n",
    "\n",
    "    return count"
   ]
  }
 ],
 "metadata": {
  "kernelspec": {
   "display_name": "Python 3 (ipykernel)",
   "language": "python",
   "name": "python3"
  },
  "language_info": {
   "codemirror_mode": {
    "name": "ipython",
    "version": 3
   },
   "file_extension": ".py",
   "mimetype": "text/x-python",
   "name": "python",
   "nbconvert_exporter": "python",
   "pygments_lexer": "ipython3",
   "version": "3.9.12"
  }
 },
 "nbformat": 4,
 "nbformat_minor": 5
}
