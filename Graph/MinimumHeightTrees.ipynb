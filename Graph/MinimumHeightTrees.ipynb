{
 "cells": [
  {
   "cell_type": "code",
   "execution_count": 5,
   "id": "f71616c0",
   "metadata": {},
   "outputs": [],
   "source": [
    "import pandas as pd"
   ]
  },
  {
   "cell_type": "code",
   "execution_count": 6,
   "id": "c3b6e742",
   "metadata": {},
   "outputs": [],
   "source": [
    "n = 4\n",
    "edges = [[1,0],[1,2],[1,3]]"
   ]
  },
  {
   "cell_type": "code",
   "execution_count": 7,
   "id": "62e08cfb",
   "metadata": {},
   "outputs": [],
   "source": [
    "def addEdge(self, u,v):\n",
    "    self.adj[v].append( u )\n",
    "    self.adj[u].append( v )\n",
    "    \n",
    "    self.degree[u] = self.degree[u] + 1\n",
    "    self.degree[v] = self.degree[v] + 1\n"
   ]
  },
  {
   "cell_type": "code",
   "execution_count": 13,
   "id": "d1a252b5",
   "metadata": {},
   "outputs": [],
   "source": [
    "min_height = 100\n",
    "\n",
    "def minHeight(self,i):\n",
    "    print(i)\n",
    "    height = 0\n",
    "    q = []\n",
    "    if i is None:\n",
    "        return 0\n",
    "    if self.adj[i] is None:\n",
    "        return 1\n",
    "    q.append(self.adj[i])\n",
    "    print(q)\n",
    "#     for j in self.adj[i]:\n",
    "#         print(j)\n",
    "#         return minHeight(self,j) + 1\n"
   ]
  },
  {
   "cell_type": "code",
   "execution_count": 14,
   "id": "90346d85",
   "metadata": {},
   "outputs": [],
   "source": [
    "class Tree_def:\n",
    "    def __init__(self, v, addEdge, minHeight):\n",
    "        self.v = v\n",
    "        self.adj = dict((i,[]) for i in range(v))\n",
    "        self.degree = list()\n",
    "        for i in range(v):\n",
    "            self.degree.append(0)\n",
    "        Tree_def.addEdge = addEdge\n",
    "        Tree_def.minHeight = minHeight"
   ]
  },
  {
   "cell_type": "code",
   "execution_count": 15,
   "id": "07e8fe3b",
   "metadata": {},
   "outputs": [],
   "source": [
    "g = Tree_def(6, addEdge, minHeight)\n",
    "g.addEdge(0, 3)\n",
    "g.addEdge(1, 3)\n",
    "g.addEdge(2, 3)\n",
    "g.addEdge(4, 3)\n",
    "g.addEdge(5, 4)"
   ]
  },
  {
   "cell_type": "code",
   "execution_count": 17,
   "id": "939afdef",
   "metadata": {},
   "outputs": [
    {
     "name": "stdout",
     "output_type": "stream",
     "text": [
      "0\n",
      "[[3]]\n"
     ]
    }
   ],
   "source": [
    "g.minHeight(0)"
   ]
  },
  {
   "cell_type": "code",
   "execution_count": null,
   "id": "eec1bfc5",
   "metadata": {},
   "outputs": [],
   "source": []
  },
  {
   "cell_type": "code",
   "execution_count": null,
   "id": "7aa7ac69",
   "metadata": {},
   "outputs": [],
   "source": []
  },
  {
   "cell_type": "code",
   "execution_count": null,
   "id": "166bb58f",
   "metadata": {},
   "outputs": [],
   "source": []
  },
  {
   "cell_type": "code",
   "execution_count": null,
   "id": "9e3209a3",
   "metadata": {},
   "outputs": [],
   "source": []
  },
  {
   "cell_type": "code",
   "execution_count": null,
   "id": "8371b855",
   "metadata": {},
   "outputs": [],
   "source": []
  },
  {
   "cell_type": "code",
   "execution_count": null,
   "id": "9d7303d5",
   "metadata": {},
   "outputs": [],
   "source": []
  },
  {
   "cell_type": "code",
   "execution_count": null,
   "id": "a20909bc",
   "metadata": {},
   "outputs": [],
   "source": []
  },
  {
   "cell_type": "code",
   "execution_count": null,
   "id": "7acb8e91",
   "metadata": {},
   "outputs": [],
   "source": []
  },
  {
   "cell_type": "code",
   "execution_count": null,
   "id": "58901347",
   "metadata": {},
   "outputs": [],
   "source": []
  },
  {
   "cell_type": "code",
   "execution_count": 4,
   "id": "364854c3",
   "metadata": {},
   "outputs": [],
   "source": [
    "class Tree:\n",
    "    def __init__(self, v, addEdge, rootMinHeight):\n",
    "        self.v = v\n",
    "        self.adj = dict((i , []) for i in range(v))\n",
    "        self.degree = list()\n",
    "        for i in range(v):\n",
    "            self.degree.append(0)\n",
    "                        \n",
    "        Tree.addEdge = addEdge\n",
    "        Tree.rootMinHeight = rootMinHeight"
   ]
  },
  {
   "cell_type": "code",
   "execution_count": 5,
   "id": "da7e8cd3",
   "metadata": {},
   "outputs": [],
   "source": [
    "def addEdge(self, u,v):\n",
    "    self.adj[v].append(w)\n",
    "    self.adj[u].append(v)\n",
    "    self.degree[u] = self.degree[u] + 1\n",
    "    self.degree[v] = self.degree[v] + 1\n",
    "    "
   ]
  },
  {
   "cell_type": "code",
   "execution_count": null,
   "id": "04ba983a",
   "metadata": {},
   "outputs": [],
   "source": [
    "def rootMinHeight(self):\n",
    "    pass"
   ]
  }
 ],
 "metadata": {
  "kernelspec": {
   "display_name": "Python 3 (ipykernel)",
   "language": "python",
   "name": "python3"
  },
  "language_info": {
   "codemirror_mode": {
    "name": "ipython",
    "version": 3
   },
   "file_extension": ".py",
   "mimetype": "text/x-python",
   "name": "python",
   "nbconvert_exporter": "python",
   "pygments_lexer": "ipython3",
   "version": "3.9.12"
  }
 },
 "nbformat": 4,
 "nbformat_minor": 5
}
