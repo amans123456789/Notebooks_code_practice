{
 "cells": [
  {
   "cell_type": "code",
   "execution_count": 1,
   "id": "f71616c0",
   "metadata": {},
   "outputs": [],
   "source": [
    "import pandas as pd"
   ]
  },
  {
   "cell_type": "code",
   "execution_count": 2,
   "id": "c3b6e742",
   "metadata": {},
   "outputs": [],
   "source": [
    "n = 4\n",
    "edges = [[1,0],[1,2],[1,3]]"
   ]
  },
  {
   "cell_type": "code",
   "execution_count": 4,
   "id": "62e08cfb",
   "metadata": {},
   "outputs": [],
   "source": [
    "def addEdge(self, u,v):\n",
    "    self.adj[v].append( u )\n",
    "    self.adj[u].append( v )\n",
    "    \n",
    "    self.degree[u] = self.degree[u] + 1\n",
    "    self.degree[v] = self.degree[v] + 1\n"
   ]
  },
  {
   "cell_type": "code",
   "execution_count": 5,
   "id": "d1a252b5",
   "metadata": {},
   "outputs": [],
   "source": [
    "min_height = 100\n",
    "visited = []\n",
    "\n",
    "def minHeight(self):\n",
    "#     print(i)\n",
    "    height = 0\n",
    "    q = []\n",
    "    if i is None:\n",
    "        return 0\n",
    "    if self.adj[i] is None:\n",
    "        return 1\n",
    "    visited.append(i)\n",
    "    q.append(self.adj[i])\n",
    "#     print(q)\n",
    "\n",
    "\n",
    "    for j in q[0] :\n",
    "#         print(j)\n",
    "        \n",
    "        if j not in visited:\n",
    "#             visited.append(j)\n",
    "            print(j, visited, q)\n",
    "            return minHeight(self,j) + 1\n",
    "        else:\n",
    "            pass\n",
    "#             if len(q)>0:\n",
    "#                 q.remove(j)\n",
    "#             else:\n",
    "#                 pass\n"
   ]
  },
  {
   "cell_type": "code",
   "execution_count": 6,
   "id": "90346d85",
   "metadata": {},
   "outputs": [],
   "source": [
    "class Tree_def:\n",
    "    def __init__(self, v, addEdge, minHeight):\n",
    "        self.v = v\n",
    "        self.adj = dict((i,[]) for i in range(v))\n",
    "        self.degree = list()\n",
    "        for i in range(v):\n",
    "            self.degree.append(0)\n",
    "        Tree_def.addEdge = addEdge\n",
    "        Tree_def.minHeight = minHeight"
   ]
  },
  {
   "cell_type": "code",
   "execution_count": 58,
   "id": "07e8fe3b",
   "metadata": {},
   "outputs": [],
   "source": [
    "g = Tree_def(6, addEdge, minHeight)\n",
    "g.addEdge(0, 3)\n",
    "g.addEdge(1, 3)\n",
    "g.addEdge(2, 3)\n",
    "g.addEdge(4, 3)\n",
    "g.addEdge(5, 4)"
   ]
  },
  {
   "cell_type": "code",
   "execution_count": 59,
   "id": "fe461bf2",
   "metadata": {},
   "outputs": [],
   "source": [
    "# g.minHeight(0)"
   ]
  },
  {
   "cell_type": "code",
   "execution_count": 60,
   "id": "939afdef",
   "metadata": {},
   "outputs": [],
   "source": [
    "# g.minHeight(3)"
   ]
  },
  {
   "cell_type": "code",
   "execution_count": 61,
   "id": "532e32dd",
   "metadata": {},
   "outputs": [],
   "source": [
    "V = 6"
   ]
  },
  {
   "cell_type": "code",
   "execution_count": 62,
   "id": "8bea571f",
   "metadata": {},
   "outputs": [],
   "source": [
    "from queue import Queue\n",
    "q = Queue()"
   ]
  },
  {
   "cell_type": "code",
   "execution_count": 63,
   "id": "eec1bfc5",
   "metadata": {},
   "outputs": [],
   "source": [
    "for i in range(V):\n",
    "    if g.degree[i] == 1:\n",
    "        q.put(i)\n"
   ]
  },
  {
   "cell_type": "code",
   "execution_count": 64,
   "id": "579054cc",
   "metadata": {},
   "outputs": [
    {
     "data": {
      "text/plain": [
       "4"
      ]
     },
     "execution_count": 64,
     "metadata": {},
     "output_type": "execute_result"
    }
   ],
   "source": [
    "p = q.qsize()\n",
    "p"
   ]
  },
  {
   "cell_type": "code",
   "execution_count": 57,
   "id": "8a2c3367",
   "metadata": {},
   "outputs": [
    {
     "name": "stdout",
     "output_type": "stream",
     "text": [
      "0 3\n",
      "1 3\n",
      "2 3\n",
      "5 4\n"
     ]
    }
   ],
   "source": [
    "while(V > 2):\n",
    "    p = q.qsize()\n",
    "    V -= p\n",
    "    for i in range(p):\n",
    "        t = q.get()\n",
    "\n",
    "        # for each neighbour, decrease its degree and\n",
    "        # if it become leaf, insert into queue\n",
    "        for j in g.adj[t]:\n",
    "            g.degree[j] -= 1\n",
    "            print(t,j)\n",
    "            if g.degree[j] == 1:\n",
    "                q.put(j)"
   ]
  },
  {
   "cell_type": "code",
   "execution_count": 65,
   "id": "7aa7ac69",
   "metadata": {},
   "outputs": [
    {
     "name": "stdout",
     "output_type": "stream",
     "text": [
      "0 3 [1, 2, 5]\n",
      "1 3 [2, 5]\n",
      "2 3 [5]\n",
      "5 4 [3]\n"
     ]
    }
   ],
   "source": [
    "while(V > 2):\n",
    "    p = q.qsize()\n",
    "    V -= p\n",
    "    for i in range(p):\n",
    "        t = q.get()\n",
    "\n",
    "        # for each neighbour, decrease its degree and\n",
    "        # if it become leaf, insert into queue\n",
    "        for j in g.adj[t]:\n",
    "            g.degree[j] -= 1\n",
    "            print(t,j,(list(q.queue)))\n",
    "            if g.degree[j] == 1:\n",
    "                q.put(j)"
   ]
  },
  {
   "cell_type": "code",
   "execution_count": 16,
   "id": "166bb58f",
   "metadata": {},
   "outputs": [
    {
     "data": {
      "text/plain": [
       "4"
      ]
     },
     "execution_count": 16,
     "metadata": {},
     "output_type": "execute_result"
    }
   ],
   "source": [
    "q.get()"
   ]
  },
  {
   "cell_type": "code",
   "execution_count": 32,
   "id": "9e3209a3",
   "metadata": {},
   "outputs": [],
   "source": [
    "res = list()\n",
    "while(q.qsize() > 0):\n",
    "    res.append(q.get())"
   ]
  },
  {
   "cell_type": "code",
   "execution_count": 33,
   "id": "8371b855",
   "metadata": {},
   "outputs": [
    {
     "data": {
      "text/plain": [
       "[3, 4]"
      ]
     },
     "execution_count": 33,
     "metadata": {},
     "output_type": "execute_result"
    }
   ],
   "source": [
    "res"
   ]
  },
  {
   "cell_type": "code",
   "execution_count": null,
   "id": "9d7303d5",
   "metadata": {},
   "outputs": [],
   "source": []
  },
  {
   "cell_type": "code",
   "execution_count": null,
   "id": "a20909bc",
   "metadata": {},
   "outputs": [],
   "source": []
  },
  {
   "cell_type": "code",
   "execution_count": null,
   "id": "7acb8e91",
   "metadata": {},
   "outputs": [],
   "source": []
  },
  {
   "cell_type": "code",
   "execution_count": null,
   "id": "58901347",
   "metadata": {},
   "outputs": [],
   "source": []
  },
  {
   "cell_type": "code",
   "execution_count": 4,
   "id": "364854c3",
   "metadata": {},
   "outputs": [],
   "source": [
    "class Tree:\n",
    "    def __init__(self, v, addEdge, rootMinHeight):\n",
    "        self.v = v\n",
    "        self.adj = dict((i , []) for i in range(v))\n",
    "        self.degree = list()\n",
    "        for i in range(v):\n",
    "            self.degree.append(0)\n",
    "                        \n",
    "        Tree.addEdge = addEdge\n",
    "        Tree.rootMinHeight = rootMinHeight"
   ]
  },
  {
   "cell_type": "code",
   "execution_count": 5,
   "id": "da7e8cd3",
   "metadata": {},
   "outputs": [],
   "source": [
    "def addEdge(self, u,v):\n",
    "    self.adj[v].append(w)\n",
    "    self.adj[u].append(v)\n",
    "    self.degree[u] = self.degree[u] + 1\n",
    "    self.degree[v] = self.degree[v] + 1\n",
    "    "
   ]
  },
  {
   "cell_type": "code",
   "execution_count": null,
   "id": "04ba983a",
   "metadata": {},
   "outputs": [],
   "source": [
    "def rootMinHeight(self):\n",
    "    pass"
   ]
  }
 ],
 "metadata": {
  "kernelspec": {
   "display_name": "Python 3 (ipykernel)",
   "language": "python",
   "name": "python3"
  },
  "language_info": {
   "codemirror_mode": {
    "name": "ipython",
    "version": 3
   },
   "file_extension": ".py",
   "mimetype": "text/x-python",
   "name": "python",
   "nbconvert_exporter": "python",
   "pygments_lexer": "ipython3",
   "version": "3.9.12"
  }
 },
 "nbformat": 4,
 "nbformat_minor": 5
}
