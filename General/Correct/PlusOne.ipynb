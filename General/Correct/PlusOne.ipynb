{
 "cells": [
  {
   "cell_type": "raw",
   "id": "a2ba1c66",
   "metadata": {},
   "source": [
    "https://leetcode.com/problems/plus-one/"
   ]
  },
  {
   "cell_type": "code",
   "execution_count": 13,
   "id": "7a98eca7",
   "metadata": {},
   "outputs": [
    {
     "data": {
      "text/plain": [
       "100"
      ]
     },
     "execution_count": 13,
     "metadata": {},
     "output_type": "execute_result"
    }
   ],
   "source": [
    " pow(10, 3-1)"
   ]
  },
  {
   "cell_type": "markdown",
   "id": "2967964e",
   "metadata": {},
   "source": [
    "### Plus One"
   ]
  },
  {
   "cell_type": "code",
   "execution_count": 24,
   "id": "66c7718a",
   "metadata": {},
   "outputs": [],
   "source": [
    "digits = [1,2,3]\n",
    "digits = [4,3,2,1]\n",
    "digits = [9]"
   ]
  },
  {
   "cell_type": "code",
   "execution_count": 25,
   "id": "c33ec477",
   "metadata": {},
   "outputs": [
    {
     "name": "stdout",
     "output_type": "stream",
     "text": [
      "1 9\n"
     ]
    }
   ],
   "source": []
  },
  {
   "cell_type": "code",
   "execution_count": 26,
   "id": "f3aeb61f",
   "metadata": {},
   "outputs": [
    {
     "data": {
      "text/plain": [
       "9"
      ]
     },
     "execution_count": 26,
     "metadata": {},
     "output_type": "execute_result"
    }
   ],
   "source": [
    "num"
   ]
  },
  {
   "cell_type": "code",
   "execution_count": 35,
   "id": "286829bc",
   "metadata": {},
   "outputs": [],
   "source": [
    "def plus_one(digits):\n",
    "    n = len(digits)\n",
    "    num = 0\n",
    "    for i in range(n):\n",
    "        print(n-i,digits[i] )\n",
    "        num = num + pow(10 , (n-i-1) ) *digits[i]\n",
    "        \n",
    "        \n",
    "    num = str(num + 1)\n",
    "    res = []\n",
    "    \n",
    "    for i in num:\n",
    "        res.append(int(i))\n",
    "    \n",
    "    return res"
   ]
  },
  {
   "cell_type": "code",
   "execution_count": 36,
   "id": "f4ee2e07",
   "metadata": {},
   "outputs": [
    {
     "name": "stdout",
     "output_type": "stream",
     "text": [
      "1 9\n"
     ]
    },
    {
     "data": {
      "text/plain": [
       "[1, 0]"
      ]
     },
     "execution_count": 36,
     "metadata": {},
     "output_type": "execute_result"
    }
   ],
   "source": [
    "plus_one(digits)"
   ]
  },
  {
   "cell_type": "markdown",
   "id": "789ea35a",
   "metadata": {},
   "source": [
    "#### Alternate Solution (from Leetcode)"
   ]
  },
  {
   "cell_type": "code",
   "execution_count": null,
   "id": "1b02cca1",
   "metadata": {},
   "outputs": [],
   "source": [
    "class Solution(object):\n",
    "    def plusOne(self, l):\n",
    "        l[-1] += 1\n",
    "        for x in range(1, len(l) + 1):\n",
    "            if l[-x] == 10:\n",
    "                l[-x] = 0\n",
    "                try:\n",
    "                    l[- (x + 1)] += 1\n",
    "                except IndexError:\n",
    "                    l = [1] + l\n",
    "            else:\n",
    "                break\n",
    "        return l"
   ]
  }
 ],
 "metadata": {
  "kernelspec": {
   "display_name": "Python 3 (ipykernel)",
   "language": "python",
   "name": "python3"
  },
  "language_info": {
   "codemirror_mode": {
    "name": "ipython",
    "version": 3
   },
   "file_extension": ".py",
   "mimetype": "text/x-python",
   "name": "python",
   "nbconvert_exporter": "python",
   "pygments_lexer": "ipython3",
   "version": "3.9.12"
  }
 },
 "nbformat": 4,
 "nbformat_minor": 5
}
