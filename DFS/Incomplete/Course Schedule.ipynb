{
 "cells": [
  {
   "cell_type": "markdown",
   "id": "7d7b8d94",
   "metadata": {},
   "source": [
    "https://leetcode.com/problems/course-schedule/"
   ]
  },
  {
   "cell_type": "markdown",
   "id": "d9e84d9e",
   "metadata": {},
   "source": [
    "Solution: https://leetcode.com/problems/course-schedule/solutions/3757116/ex-amazon-explains-a-python-solution-with-a-video/"
   ]
  },
  {
   "cell_type": "code",
   "execution_count": 48,
   "id": "cabac917",
   "metadata": {},
   "outputs": [],
   "source": [
    "numCourses = 2\n",
    "prerequisites = [[1,0]]"
   ]
  },
  {
   "cell_type": "code",
   "execution_count": 60,
   "id": "151c7c86",
   "metadata": {},
   "outputs": [],
   "source": [
    "numCourses = 2\n",
    "prerequisites = [[1,0],[0,1]]"
   ]
  },
  {
   "cell_type": "code",
   "execution_count": 131,
   "id": "8459b3d1",
   "metadata": {},
   "outputs": [],
   "source": [
    "numCourses = 2\n",
    "prerequisites = [[0,1]]"
   ]
  },
  {
   "cell_type": "code",
   "execution_count": 175,
   "id": "74184463",
   "metadata": {},
   "outputs": [],
   "source": [
    "numCourses = 20\n",
    "prerequisites = [[0,10],[3,18],[5,5],[6,11],[11,14],[13,1],[15,1],[17,4]]"
   ]
  },
  {
   "cell_type": "markdown",
   "id": "80652d1d",
   "metadata": {},
   "source": [
    "#### ChatGPT Solution"
   ]
  },
  {
   "cell_type": "code",
   "execution_count": 143,
   "id": "350ccd01",
   "metadata": {},
   "outputs": [],
   "source": [
    "class Solution(object):\n",
    "    def canFinish(self, numCourses, prerequisites):\n",
    "        \"\"\"\n",
    "        :type numCourses: int\n",
    "        :type prerequisites: List[List[int]]\n",
    "        :rtype: bool\n",
    "        \"\"\"\n",
    "        if len(prerequisites) == 0:\n",
    "            return True\n",
    "\n",
    "        def distinct(prerequisites):\n",
    "            dis = []\n",
    "            for i in range(len(prerequisites)):\n",
    "                for j in range(len(prerequisites[i])):\n",
    "                    dis.append(prerequisites[i][j])\n",
    "            \n",
    "            return set(dis)\n",
    "        distinc = distinct(prerequisites)\n",
    "        def dictionary(prerequisites,distinc):\n",
    "            fin = {}\n",
    "            \n",
    "            for i in distinc:\n",
    "                fin[i] = []\n",
    "            for j in range(len( prerequisites )):\n",
    "                for k in range(1,len(prerequisites[j])):\n",
    "                    \n",
    "                    fin[prerequisites[j][0]].append(prerequisites[j][k])\n",
    "            return fin\n",
    "\n",
    "        fin = dictionary(prerequisites,distinc)\n",
    "\n",
    "        visited = [0] * numCourses  # Use 0: not visited, 1: visiting, 2: visited\n",
    "        course_done = []\n",
    "\n",
    "        def course_schedule_dfs(s):\n",
    "            if visited[s] == 1:\n",
    "                return False  # Cycle detected, cannot finish all courses\n",
    "            if visited[s] == 2:\n",
    "                return True  # Already visited, no issue\n",
    "\n",
    "            visited[s] = 1  # Mark as visiting\n",
    "\n",
    "            for i in fin[s]:\n",
    "                if not course_schedule_dfs(i):\n",
    "                    return False\n",
    "\n",
    "            visited[s] = 2  # Mark as visited\n",
    "            course_done.append(s)\n",
    "\n",
    "            return True\n",
    "\n",
    "        for i in distinc:\n",
    "            if not course_schedule_dfs(i):\n",
    "                return False\n",
    "\n",
    "        return True\n"
   ]
  },
  {
   "cell_type": "code",
   "execution_count": 144,
   "id": "e39ac9f8",
   "metadata": {},
   "outputs": [],
   "source": [
    "solution = Solution()\n"
   ]
  },
  {
   "cell_type": "code",
   "execution_count": 145,
   "id": "af28fd57",
   "metadata": {},
   "outputs": [
    {
     "name": "stdout",
     "output_type": "stream",
     "text": [
      "True\n"
     ]
    }
   ],
   "source": [
    "print(solution.canFinish(2, [[1, 0]]))"
   ]
  },
  {
   "cell_type": "code",
   "execution_count": 146,
   "id": "709596ab",
   "metadata": {},
   "outputs": [
    {
     "name": "stdout",
     "output_type": "stream",
     "text": [
      "False\n"
     ]
    }
   ],
   "source": [
    "print(solution.canFinish(2, [[1, 0], [0, 1]]))"
   ]
  },
  {
   "cell_type": "code",
   "execution_count": 147,
   "id": "e4710edc",
   "metadata": {},
   "outputs": [
    {
     "name": "stdout",
     "output_type": "stream",
     "text": [
      "True\n"
     ]
    }
   ],
   "source": [
    "print(solution.canFinish(2, [[0, 1]]))  "
   ]
  },
  {
   "cell_type": "code",
   "execution_count": null,
   "id": "9b460e58",
   "metadata": {},
   "outputs": [],
   "source": []
  },
  {
   "cell_type": "markdown",
   "id": "33e1f30b",
   "metadata": {},
   "source": [
    "#### Self Attempts"
   ]
  },
  {
   "cell_type": "code",
   "execution_count": 132,
   "id": "2f2e5dab",
   "metadata": {},
   "outputs": [],
   "source": [
    "def distinct(prerequisites):\n",
    "    dis = []\n",
    "    for i in range(len(prerequisites)):\n",
    "        for j in range(len(prerequisites[i])):\n",
    "            dis.append(prerequisites[i][j])\n",
    "    \n",
    "    return set(dis)"
   ]
  },
  {
   "cell_type": "code",
   "execution_count": 133,
   "id": "c7212e90",
   "metadata": {},
   "outputs": [
    {
     "data": {
      "text/plain": [
       "{0, 1}"
      ]
     },
     "execution_count": 133,
     "metadata": {},
     "output_type": "execute_result"
    }
   ],
   "source": [
    "distinc = distinct(prerequisites)\n",
    "distinc"
   ]
  },
  {
   "cell_type": "code",
   "execution_count": 134,
   "id": "fab71aaa",
   "metadata": {},
   "outputs": [],
   "source": [
    "def dictionary(prerequisites):\n",
    "    fin = {}\n",
    "    \n",
    "    distinc = distinct(prerequisites)\n",
    "\n",
    "    for i in distinc:\n",
    "        fin[i] = []\n",
    "    for j in range(len( prerequisites )):\n",
    "        for k in range(1,len(prerequisites[j])):\n",
    "            \n",
    "            fin[prerequisites[j][0]].append(prerequisites[j][k])\n",
    "    return fin"
   ]
  },
  {
   "cell_type": "code",
   "execution_count": 135,
   "id": "9b5f67ed",
   "metadata": {},
   "outputs": [
    {
     "data": {
      "text/plain": [
       "{0: [1], 1: []}"
      ]
     },
     "execution_count": 135,
     "metadata": {},
     "output_type": "execute_result"
    }
   ],
   "source": [
    "fin = dictionary(prerequisites)\n",
    "fin"
   ]
  },
  {
   "cell_type": "code",
   "execution_count": 136,
   "id": "8925216d",
   "metadata": {},
   "outputs": [],
   "source": [
    "visited = [False] * (len(distinc) + 1)\n",
    "course_done = []"
   ]
  },
  {
   "cell_type": "code",
   "execution_count": 137,
   "id": "9ffe61a6",
   "metadata": {},
   "outputs": [],
   "source": [
    "# visited = [0] * numCourses\n",
    "# def canFinishDFS(course):\n",
    "#     if visited[course] == 1:\n",
    "#         return False  # Cycle detected, cannot finish all courses\n",
    "#     if visited[course] == 2:\n",
    "#         return True  # Already visited, no issue\n",
    "\n",
    "#     visited[course] = 1  # Mark as visiting\n",
    "\n",
    "#     for prereq in fin[course]:\n",
    "#         if not canFinishDFS(prereq):\n",
    "#             return False\n",
    "\n",
    "#     visited[course] = 2  # Mark as visited\n",
    "#     return True"
   ]
  },
  {
   "cell_type": "code",
   "execution_count": 138,
   "id": "9a7378f1",
   "metadata": {},
   "outputs": [],
   "source": [
    "# for i in distinc:\n",
    "#     a = canFinishDFS(i)\n",
    "#     print(i)"
   ]
  },
  {
   "cell_type": "code",
   "execution_count": 139,
   "id": "972ee900",
   "metadata": {},
   "outputs": [],
   "source": [
    "# a"
   ]
  },
  {
   "cell_type": "code",
   "execution_count": 140,
   "id": "6ac0d863",
   "metadata": {},
   "outputs": [],
   "source": [
    "def course_schedule_bfs(s, fin_copy, course_done):\n",
    "\n",
    "    if visited[s] is True:\n",
    "        return False\n",
    "\n",
    "    for i in (fin_copy[s]):\n",
    "        print(i, visited, course_done)\n",
    "        if visited[i] == False:\n",
    "            \n",
    "            return course_schedule_bfs(i, fin_copy, course_done)\n",
    "\n",
    "        \n",
    "    visited[s] = True\n",
    "    course_done.append(s)\n",
    "\n",
    "    return True "
   ]
  },
  {
   "cell_type": "code",
   "execution_count": 141,
   "id": "010056a9",
   "metadata": {},
   "outputs": [
    {
     "name": "stdout",
     "output_type": "stream",
     "text": [
      "1 [False, False, False] []\n",
      "0 True\n",
      "1 False\n"
     ]
    }
   ],
   "source": [
    "for i in distinc:\n",
    "    a = course_schedule_bfs(i, fin, course_done)\n",
    "    print(i,a)"
   ]
  },
  {
   "cell_type": "code",
   "execution_count": 142,
   "id": "1548ea2d",
   "metadata": {},
   "outputs": [
    {
     "data": {
      "text/plain": [
       "False"
      ]
     },
     "execution_count": 142,
     "metadata": {},
     "output_type": "execute_result"
    }
   ],
   "source": [
    "a"
   ]
  },
  {
   "cell_type": "code",
   "execution_count": 106,
   "id": "9be9fbb9",
   "metadata": {},
   "outputs": [
    {
     "data": {
      "text/plain": [
       "[1, 0, 0, 1]"
      ]
     },
     "execution_count": 106,
     "metadata": {},
     "output_type": "execute_result"
    }
   ],
   "source": [
    "course_done"
   ]
  },
  {
   "cell_type": "code",
   "execution_count": 88,
   "id": "4f101d34",
   "metadata": {},
   "outputs": [],
   "source": [
    "fin_copy = fin.copy()\n",
    "visited[0] = True"
   ]
  },
  {
   "cell_type": "code",
   "execution_count": 89,
   "id": "4ff63bdf",
   "metadata": {},
   "outputs": [
    {
     "data": {
      "text/plain": [
       "[True, False, False]"
      ]
     },
     "execution_count": 89,
     "metadata": {},
     "output_type": "execute_result"
    }
   ],
   "source": [
    "visited"
   ]
  },
  {
   "cell_type": "code",
   "execution_count": 93,
   "id": "ca5e86ae",
   "metadata": {},
   "outputs": [
    {
     "data": {
      "text/plain": [
       "[]"
      ]
     },
     "execution_count": 93,
     "metadata": {},
     "output_type": "execute_result"
    }
   ],
   "source": [
    "fin_copy.pop(1)"
   ]
  },
  {
   "cell_type": "code",
   "execution_count": 94,
   "id": "be29d2a3",
   "metadata": {},
   "outputs": [
    {
     "data": {
      "text/plain": [
       "{0: [1]}"
      ]
     },
     "execution_count": 94,
     "metadata": {},
     "output_type": "execute_result"
    }
   ],
   "source": [
    "fin_copy"
   ]
  },
  {
   "cell_type": "code",
   "execution_count": null,
   "id": "cdf02090",
   "metadata": {},
   "outputs": [],
   "source": []
  },
  {
   "cell_type": "code",
   "execution_count": null,
   "id": "ca4f24ef",
   "metadata": {},
   "outputs": [],
   "source": []
  },
  {
   "cell_type": "code",
   "execution_count": null,
   "id": "66e28998",
   "metadata": {},
   "outputs": [],
   "source": []
  },
  {
   "cell_type": "code",
   "execution_count": null,
   "id": "c087dad3",
   "metadata": {},
   "outputs": [],
   "source": []
  },
  {
   "cell_type": "code",
   "execution_count": 53,
   "id": "82f3fb37",
   "metadata": {},
   "outputs": [
    {
     "data": {
      "text/plain": [
       "{0: [1], 1: []}"
      ]
     },
     "execution_count": 53,
     "metadata": {},
     "output_type": "execute_result"
    }
   ],
   "source": [
    "fin"
   ]
  },
  {
   "cell_type": "code",
   "execution_count": 69,
   "id": "85bc49ac",
   "metadata": {},
   "outputs": [
    {
     "data": {
      "text/plain": [
       "[1]"
      ]
     },
     "execution_count": 69,
     "metadata": {},
     "output_type": "execute_result"
    }
   ],
   "source": [
    "course_schedule_bfs(0, fin, course_done)"
   ]
  },
  {
   "cell_type": "code",
   "execution_count": null,
   "id": "b02d7785",
   "metadata": {},
   "outputs": [],
   "source": []
  },
  {
   "cell_type": "code",
   "execution_count": 61,
   "id": "1ba9acca",
   "metadata": {},
   "outputs": [],
   "source": [
    "fin_copy = fin.copy()\n",
    "visited[0] = True"
   ]
  },
  {
   "cell_type": "code",
   "execution_count": 62,
   "id": "11c80097",
   "metadata": {},
   "outputs": [
    {
     "data": {
      "text/plain": [
       "[True, False, False]"
      ]
     },
     "execution_count": 62,
     "metadata": {},
     "output_type": "execute_result"
    }
   ],
   "source": [
    "visited"
   ]
  },
  {
   "cell_type": "code",
   "execution_count": null,
   "id": "df3bc664",
   "metadata": {},
   "outputs": [],
   "source": []
  },
  {
   "cell_type": "code",
   "execution_count": null,
   "id": "14ec3095",
   "metadata": {},
   "outputs": [],
   "source": []
  },
  {
   "cell_type": "code",
   "execution_count": null,
   "id": "fcc02ba8",
   "metadata": {},
   "outputs": [],
   "source": []
  },
  {
   "cell_type": "code",
   "execution_count": null,
   "id": "ba7dab39",
   "metadata": {},
   "outputs": [],
   "source": []
  },
  {
   "cell_type": "code",
   "execution_count": null,
   "id": "bbd7a539",
   "metadata": {},
   "outputs": [],
   "source": []
  },
  {
   "cell_type": "code",
   "execution_count": null,
   "id": "a296b2ec",
   "metadata": {},
   "outputs": [],
   "source": []
  },
  {
   "cell_type": "code",
   "execution_count": null,
   "id": "44de5675",
   "metadata": {},
   "outputs": [],
   "source": []
  },
  {
   "cell_type": "code",
   "execution_count": null,
   "id": "9560cd99",
   "metadata": {},
   "outputs": [],
   "source": []
  },
  {
   "cell_type": "code",
   "execution_count": null,
   "id": "70546ea0",
   "metadata": {},
   "outputs": [],
   "source": []
  },
  {
   "cell_type": "code",
   "execution_count": null,
   "id": "eed31551",
   "metadata": {},
   "outputs": [],
   "source": []
  },
  {
   "cell_type": "code",
   "execution_count": null,
   "id": "3da07051",
   "metadata": {},
   "outputs": [],
   "source": []
  },
  {
   "cell_type": "code",
   "execution_count": 3,
   "id": "d2796eec",
   "metadata": {},
   "outputs": [],
   "source": [
    "# def dictionary_bfs(prerequisites):\n",
    "#     fin = {}\n",
    "#     for i in range(len(prerequisites)):\n",
    "        \n",
    "#         fin[prerequisites[i][0]] = []\n",
    "        \n",
    "#         for j in range(1,len(prerequisites[i])):\n",
    "#             fin[prerequisites[i][0]].append(prerequisites[i][j])\n",
    "#     return fin"
   ]
  },
  {
   "cell_type": "code",
   "execution_count": 4,
   "id": "df05890c",
   "metadata": {},
   "outputs": [],
   "source": [
    "def distinct(prerequisites):\n",
    "    dis = []\n",
    "    for i in range(len(prerequisites)):\n",
    "        for j in range(len(prerequisites[i])):\n",
    "            dis.append(prerequisites[i][j])\n",
    "    \n",
    "    return set(dis)"
   ]
  },
  {
   "cell_type": "code",
   "execution_count": 5,
   "id": "c2c34dc2",
   "metadata": {},
   "outputs": [
    {
     "data": {
      "text/plain": [
       "{0, 1}"
      ]
     },
     "execution_count": 5,
     "metadata": {},
     "output_type": "execute_result"
    }
   ],
   "source": [
    "distinc = distinct(prerequisites)\n",
    "distinc"
   ]
  },
  {
   "cell_type": "code",
   "execution_count": 6,
   "id": "6e7d1d1b",
   "metadata": {},
   "outputs": [],
   "source": [
    "def dictionary(prerequisites):\n",
    "    fin = {}\n",
    "    \n",
    "    distinc = distinct(prerequisites)\n",
    "\n",
    "    for i in distinc:\n",
    "        fin[i] = []\n",
    "    for j in range(len( prerequisites )):\n",
    "        for k in range(1,len(prerequisites[j])):\n",
    "            \n",
    "            fin[prerequisites[j][0]].append(prerequisites[j][k])\n",
    "    return fin"
   ]
  },
  {
   "cell_type": "code",
   "execution_count": 7,
   "id": "7f100c21",
   "metadata": {},
   "outputs": [
    {
     "data": {
      "text/plain": [
       "{0: [1], 1: [0]}"
      ]
     },
     "execution_count": 7,
     "metadata": {},
     "output_type": "execute_result"
    }
   ],
   "source": [
    "fin = dictionary(prerequisites)\n",
    "fin"
   ]
  },
  {
   "cell_type": "code",
   "execution_count": 8,
   "id": "910b3a8a",
   "metadata": {},
   "outputs": [],
   "source": [
    "# visited = [False] * (len(dis) + 1)\n",
    "# visited"
   ]
  },
  {
   "cell_type": "code",
   "execution_count": 9,
   "id": "0513a2ab",
   "metadata": {},
   "outputs": [],
   "source": [
    "if len(fin[0]) == 0:\n",
    "    print(\"yes\")"
   ]
  },
  {
   "cell_type": "code",
   "execution_count": 10,
   "id": "dac9a5a9",
   "metadata": {},
   "outputs": [],
   "source": [
    "visited = [False] * (len(distinc) + 1)\n",
    "course_done = []\n",
    "def course_schedule_bfs(s, fin, course_done):\n",
    "    \n",
    "#     print(s)\n",
    "\n",
    "    fin_copy = fin.copy()\n",
    "    visited[s] = True\n",
    "    \n",
    "    if len(fin_copy[s]) == 0:\n",
    "#         visited[s] = True\n",
    "        course_done.append(s)\n",
    "        \n",
    "    else:\n",
    "        for i in (fin_copy[s]):\n",
    "            if visited[i] == False:\n",
    "                course_schedule_bfs(i, fin_copy, course_done)\n",
    "            else:\n",
    "                fin_copy[s].pop(0)\n",
    "                course_schedule_bfs(s, fin_copy, course_done)\n",
    "    print(fin_copy)\n",
    "    return course_done \n",
    "    "
   ]
  },
  {
   "cell_type": "code",
   "execution_count": 11,
   "id": "11533e3f",
   "metadata": {},
   "outputs": [],
   "source": [
    "# course_schedule_bfs(0, fin, course_done)"
   ]
  },
  {
   "cell_type": "code",
   "execution_count": 12,
   "id": "a61083ab",
   "metadata": {},
   "outputs": [
    {
     "name": "stdout",
     "output_type": "stream",
     "text": [
      "{0: [1], 1: []}\n",
      "{0: [1], 1: []}\n",
      "{0: [1], 1: []}\n",
      "{0: [1], 1: []}\n"
     ]
    }
   ],
   "source": [
    "for i in distinc:\n",
    "    a = course_schedule_bfs(i, fin, course_done)"
   ]
  },
  {
   "cell_type": "code",
   "execution_count": 13,
   "id": "ec438862",
   "metadata": {},
   "outputs": [
    {
     "data": {
      "text/plain": [
       "[1, 1]"
      ]
     },
     "execution_count": 13,
     "metadata": {},
     "output_type": "execute_result"
    }
   ],
   "source": [
    "a"
   ]
  },
  {
   "cell_type": "code",
   "execution_count": 59,
   "id": "26977abe",
   "metadata": {},
   "outputs": [
    {
     "data": {
      "text/plain": [
       "[0, 1]"
      ]
     },
     "execution_count": 59,
     "metadata": {},
     "output_type": "execute_result"
    }
   ],
   "source": [
    "course_done"
   ]
  },
  {
   "cell_type": "code",
   "execution_count": null,
   "id": "04327a02",
   "metadata": {},
   "outputs": [],
   "source": [
    "\n",
    "course_schedule_bfs(1, fin, 0)"
   ]
  },
  {
   "cell_type": "code",
   "execution_count": 75,
   "id": "e59ca355",
   "metadata": {},
   "outputs": [
    {
     "ename": "NameError",
     "evalue": "name 'course' is not defined",
     "output_type": "error",
     "traceback": [
      "\u001b[1;31m---------------------------------------------------------------------------\u001b[0m",
      "\u001b[1;31mNameError\u001b[0m                                 Traceback (most recent call last)",
      "Input \u001b[1;32mIn [75]\u001b[0m, in \u001b[0;36m<cell line: 1>\u001b[1;34m()\u001b[0m\n\u001b[1;32m----> 1\u001b[0m \u001b[43mcourse\u001b[49m\n",
      "\u001b[1;31mNameError\u001b[0m: name 'course' is not defined"
     ]
    }
   ],
   "source": [
    "course"
   ]
  },
  {
   "cell_type": "code",
   "execution_count": 62,
   "id": "0917814d",
   "metadata": {},
   "outputs": [],
   "source": [
    "def course_schedule_bfs(s, fin):\n",
    "    visited = [False] * (len(dis) + 1)\n",
    "    \n",
    "    \n",
    "    \n",
    "    queue = []\n",
    "    queue.append(s)\n",
    "    \n",
    "    visited[s] = True\n",
    "    \n",
    "    while queue:\n",
    "        s = queue.pop()\n",
    "        \n",
    "        for i in fin[s]:\n",
    "            if visited[i] == False:\n",
    "                queue.append(s)\n",
    "                visited[s] = True\n",
    "    \n",
    "\n",
    "            "
   ]
  },
  {
   "cell_type": "code",
   "execution_count": 63,
   "id": "2a81714e",
   "metadata": {},
   "outputs": [
    {
     "ename": "KeyboardInterrupt",
     "evalue": "",
     "output_type": "error",
     "traceback": [
      "\u001b[1;31m---------------------------------------------------------------------------\u001b[0m",
      "\u001b[1;31mKeyboardInterrupt\u001b[0m                         Traceback (most recent call last)",
      "Input \u001b[1;32mIn [63]\u001b[0m, in \u001b[0;36m<cell line: 1>\u001b[1;34m()\u001b[0m\n\u001b[1;32m----> 1\u001b[0m \u001b[43mcourse_schedule_bfs\u001b[49m\u001b[43m(\u001b[49m\u001b[38;5;241;43m1\u001b[39;49m\u001b[43m,\u001b[49m\u001b[43m \u001b[49m\u001b[43mfin\u001b[49m\u001b[43m)\u001b[49m\n",
      "Input \u001b[1;32mIn [62]\u001b[0m, in \u001b[0;36mcourse_schedule_bfs\u001b[1;34m(s, fin)\u001b[0m\n\u001b[0;32m     13\u001b[0m \u001b[38;5;28;01mif\u001b[39;00m visited[i] \u001b[38;5;241m==\u001b[39m \u001b[38;5;28;01mFalse\u001b[39;00m:\n\u001b[0;32m     14\u001b[0m     queue\u001b[38;5;241m.\u001b[39mappend(s)\n\u001b[1;32m---> 15\u001b[0m     visited[s] \u001b[38;5;241m=\u001b[39m \u001b[38;5;28;01mTrue\u001b[39;00m\n",
      "\u001b[1;31mKeyboardInterrupt\u001b[0m: "
     ]
    }
   ],
   "source": [
    "course_schedule_bfs(1, fin)\n"
   ]
  },
  {
   "cell_type": "code",
   "execution_count": null,
   "id": "aaee5761",
   "metadata": {},
   "outputs": [],
   "source": []
  }
 ],
 "metadata": {
  "kernelspec": {
   "display_name": "Python 3 (ipykernel)",
   "language": "python",
   "name": "python3"
  },
  "language_info": {
   "codemirror_mode": {
    "name": "ipython",
    "version": 3
   },
   "file_extension": ".py",
   "mimetype": "text/x-python",
   "name": "python",
   "nbconvert_exporter": "python",
   "pygments_lexer": "ipython3",
   "version": "3.9.12"
  }
 },
 "nbformat": 4,
 "nbformat_minor": 5
}
