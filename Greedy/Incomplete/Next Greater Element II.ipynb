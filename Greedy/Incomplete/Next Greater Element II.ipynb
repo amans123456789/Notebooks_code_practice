{
 "cells": [
  {
   "cell_type": "markdown",
   "id": "a2bb33f4",
   "metadata": {},
   "source": [
    "https://leetcode.com/problems/next-greater-element-ii/"
   ]
  },
  {
   "cell_type": "code",
   "execution_count": 105,
   "id": "e6daa2fa",
   "metadata": {},
   "outputs": [],
   "source": [
    "nums = [1,2,1]\n",
    "nums = [1,2,3,4,3]"
   ]
  },
  {
   "cell_type": "markdown",
   "id": "2e596ab7",
   "metadata": {},
   "source": [
    "### Stack"
   ]
  },
  {
   "cell_type": "markdown",
   "id": "3fa67846",
   "metadata": {},
   "source": [
    "#### Creating Linked List"
   ]
  },
  {
   "cell_type": "code",
   "execution_count": null,
   "id": "cf656e7a",
   "metadata": {},
   "outputs": [],
   "source": [
    "#### Linked List approach below is giving time out error, stack based approach \n",
    "#### given later below is submitted"
   ]
  },
  {
   "cell_type": "code",
   "execution_count": 88,
   "id": "167d1895",
   "metadata": {},
   "outputs": [],
   "source": [
    "class LinkedList:\n",
    "    def __init__(self, n):\n",
    "        self.val = n\n",
    "        self.next = None\n",
    "def len_list(n):\n",
    "    count = 0\n",
    "    temp = n.next\n",
    "    while temp != n:\n",
    "        count = count + 1\n",
    "        temp = temp.next\n",
    "    return count\n"
   ]
  },
  {
   "cell_type": "code",
   "execution_count": 89,
   "id": "dc8c5a85",
   "metadata": {},
   "outputs": [],
   "source": [
    "a = LinkedList(nums[0])\n",
    "b = LinkedList(nums[1])\n",
    "c = LinkedList(nums[2])"
   ]
  },
  {
   "cell_type": "code",
   "execution_count": 90,
   "id": "a3824fbe",
   "metadata": {},
   "outputs": [],
   "source": [
    "a.next = b\n",
    "b.next = c\n",
    "c.next = a"
   ]
  },
  {
   "cell_type": "code",
   "execution_count": 91,
   "id": "9abac713",
   "metadata": {},
   "outputs": [
    {
     "data": {
      "text/plain": [
       "1"
      ]
     },
     "execution_count": 91,
     "metadata": {},
     "output_type": "execute_result"
    }
   ],
   "source": [
    "a.val"
   ]
  },
  {
   "cell_type": "code",
   "execution_count": 92,
   "id": "82b5b567",
   "metadata": {},
   "outputs": [
    {
     "data": {
      "text/plain": [
       "2"
      ]
     },
     "execution_count": 92,
     "metadata": {},
     "output_type": "execute_result"
    }
   ],
   "source": [
    "len_list(c)"
   ]
  },
  {
   "cell_type": "code",
   "execution_count": 107,
   "id": "5d2e1b8e",
   "metadata": {},
   "outputs": [],
   "source": [
    "a = LinkedList(nums[0])\n",
    "b = LinkedList(nums[1])\n",
    "c = LinkedList(nums[2])\n",
    "d = LinkedList(nums[3])\n",
    "e = LinkedList(nums[4])\n"
   ]
  },
  {
   "cell_type": "code",
   "execution_count": 108,
   "id": "b8536df5",
   "metadata": {},
   "outputs": [],
   "source": [
    "a.next = b\n",
    "b.next = c\n",
    "c.next = d\n",
    "d.next = e\n",
    "e.next = a"
   ]
  },
  {
   "cell_type": "code",
   "execution_count": 117,
   "id": "5542e673",
   "metadata": {},
   "outputs": [
    {
     "data": {
      "text/plain": [
       "2"
      ]
     },
     "execution_count": 117,
     "metadata": {},
     "output_type": "execute_result"
    }
   ],
   "source": [
    "a.next.val"
   ]
  },
  {
   "cell_type": "code",
   "execution_count": 123,
   "id": "7798be24",
   "metadata": {},
   "outputs": [],
   "source": [
    "def nextGreatElem(a):\n",
    "    ans = {}\n",
    "    res = []\n",
    "    stack = []\n",
    "    \n",
    "    \n",
    "    temp = a.next\n",
    "    \n",
    "    while temp != a:\n",
    "        stack.append(a.val)\n",
    "        print(stack, temp.val)\n",
    "        while stack and temp.val > stack[-1]:\n",
    "            ans[stack.pop()] = temp.val\n",
    "            return ans\n",
    "        temp = temp.next\n",
    "#         while stack and n > stack[-1]:\n",
    "#             print(\"one\",stack)\n",
    "#             ans[stack.pop()] = n\n",
    "#             print(\"two\",ans)\n",
    "#         stack.append(n)\n",
    "\n",
    "    return -1"
   ]
  },
  {
   "cell_type": "code",
   "execution_count": 125,
   "id": "ca2f38ee",
   "metadata": {},
   "outputs": [
    {
     "name": "stdout",
     "output_type": "stream",
     "text": [
      "[1] 2\n"
     ]
    },
    {
     "data": {
      "text/plain": [
       "{1: 2}"
      ]
     },
     "execution_count": 125,
     "metadata": {},
     "output_type": "execute_result"
    }
   ],
   "source": [
    "nextGreatElem(a)"
   ]
  },
  {
   "cell_type": "code",
   "execution_count": 111,
   "id": "c761ec41",
   "metadata": {},
   "outputs": [
    {
     "data": {
      "text/plain": [
       "{3: 4}"
      ]
     },
     "execution_count": 111,
     "metadata": {},
     "output_type": "execute_result"
    }
   ],
   "source": [
    "nextGreatElem(c)"
   ]
  },
  {
   "cell_type": "code",
   "execution_count": 126,
   "id": "0eac2f63",
   "metadata": {},
   "outputs": [],
   "source": [
    "def fin(a):\n",
    "    res = {}\n",
    "    temp = a.next\n",
    "    res[0] = nextGreatElem(a)\n",
    "    count = 1\n",
    "    while temp != a:\n",
    "        \n",
    "        res[count] = ( nextGreatElem(temp))\n",
    "        count = count + 1\n",
    "        temp = temp.next\n",
    "        \n",
    "    return res"
   ]
  },
  {
   "cell_type": "code",
   "execution_count": 127,
   "id": "8f795a3b",
   "metadata": {},
   "outputs": [],
   "source": [
    "nums = [1,2,3,4,3]"
   ]
  },
  {
   "cell_type": "code",
   "execution_count": 128,
   "id": "26c26855",
   "metadata": {},
   "outputs": [
    {
     "name": "stdout",
     "output_type": "stream",
     "text": [
      "[1] 2\n",
      "[2] 3\n",
      "[3] 4\n",
      "[4] 3\n",
      "[4, 4] 1\n",
      "[4, 4, 4] 2\n",
      "[4, 4, 4, 4] 3\n",
      "[3] 1\n",
      "[3, 3] 2\n",
      "[3, 3, 3] 3\n",
      "[3, 3, 3, 3] 4\n"
     ]
    },
    {
     "data": {
      "text/plain": [
       "{0: {1: 2}, 1: {2: 3}, 2: {3: 4}, 3: -1, 4: {3: 4}}"
      ]
     },
     "execution_count": 128,
     "metadata": {},
     "output_type": "execute_result"
    }
   ],
   "source": [
    "fin(a)"
   ]
  },
  {
   "cell_type": "code",
   "execution_count": null,
   "id": "8d864b26",
   "metadata": {},
   "outputs": [],
   "source": [
    "# def fin(nums):\n",
    "#     class LinkedList:\n",
    "#         def __init__(self, n):\n",
    "#             self.val = n\n",
    "#             self.next = None\n",
    "#     def len_list(n):\n",
    "#         count = 0\n",
    "#         temp = n.next\n",
    "#         while temp != n:\n",
    "#             count = count + 1\n",
    "#             temp = temp.next\n",
    "#         return count\n",
    "    \n",
    "#     for i in nums:\n",
    "        \n"
   ]
  },
  {
   "cell_type": "code",
   "execution_count": 229,
   "id": "6bab2243",
   "metadata": {},
   "outputs": [],
   "source": [
    "nums = [1,2,3,4,3]"
   ]
  },
  {
   "cell_type": "code",
   "execution_count": 423,
   "id": "cff8f205",
   "metadata": {},
   "outputs": [],
   "source": [
    "class Node:\n",
    "    def __init__(self, value):\n",
    "        self.val = value\n",
    "        self.next = None\n",
    "class LinkedList:\n",
    "    \n",
    "    def __init__(self):\n",
    "        self.head = None\n",
    "        \n",
    "    def add_elem(self, val):\n",
    "        elem = Node(val)\n",
    "        if self.head is None:\n",
    "            self.head = elem\n",
    "        else:\n",
    "            current = self.head\n",
    "            while current.next:\n",
    "                current = current.next\n",
    "            current.next = elem\n",
    "    def print_elem(self):\n",
    "        current = self.head\n",
    "        while current:\n",
    "            print(current.head)\n",
    "            current = current.next\n",
    "\n",
    "        print(\"None\")\n",
    "    def circular(self):\n",
    "        current = self.head\n",
    "        while current.next:\n",
    "            current = current.next\n",
    "        current.next = self.head\n",
    "    def len(self):\n",
    "        current = self.head\n",
    "        count = 0\n",
    "        while current.next != self.head:\n",
    "            count = count + 1\n",
    "            current = current.next\n",
    "        return count + 1"
   ]
  },
  {
   "cell_type": "code",
   "execution_count": 424,
   "id": "7b5e9415",
   "metadata": {},
   "outputs": [],
   "source": [
    "l = LinkedList()\n",
    "for i in nums:\n",
    "    l.add_elem(i)"
   ]
  },
  {
   "cell_type": "code",
   "execution_count": 425,
   "id": "adcaa659",
   "metadata": {},
   "outputs": [],
   "source": [
    "# l.print_elem()"
   ]
  },
  {
   "cell_type": "code",
   "execution_count": 426,
   "id": "eed856d4",
   "metadata": {},
   "outputs": [],
   "source": [
    "l.circular()"
   ]
  },
  {
   "cell_type": "code",
   "execution_count": 427,
   "id": "49404b76",
   "metadata": {},
   "outputs": [
    {
     "data": {
      "text/plain": [
       "1"
      ]
     },
     "execution_count": 427,
     "metadata": {},
     "output_type": "execute_result"
    }
   ],
   "source": [
    "l.head.val"
   ]
  },
  {
   "cell_type": "code",
   "execution_count": 428,
   "id": "6ec215df",
   "metadata": {},
   "outputs": [
    {
     "data": {
      "text/plain": [
       "5"
      ]
     },
     "execution_count": 428,
     "metadata": {},
     "output_type": "execute_result"
    }
   ],
   "source": [
    "l.len()"
   ]
  },
  {
   "cell_type": "code",
   "execution_count": 429,
   "id": "d5607cce",
   "metadata": {},
   "outputs": [],
   "source": [
    "def nextGreatElem(a):\n",
    "    ans = []\n",
    "    res = []\n",
    "    stack = []\n",
    "    \n",
    "    \n",
    "    temp = a.next\n",
    "    \n",
    "    while temp != a:\n",
    "        stack.append(a.val)\n",
    "        print(stack, temp.val)\n",
    "        while stack and temp.val > stack[-1]:\n",
    "#             ans[stack.pop()] = temp.val\n",
    "            ans.append( temp.val )\n",
    "\n",
    "            return ans[0]\n",
    "        temp = temp.next\n",
    "\n",
    "    return -1"
   ]
  },
  {
   "cell_type": "code",
   "execution_count": 430,
   "id": "7f930094",
   "metadata": {},
   "outputs": [],
   "source": [
    "def fin(l):\n",
    "    res = []\n",
    "    temp = l.head.next\n",
    "#     res[0] = nextGreatElem(l.head)\n",
    "    res.append(nextGreatElem(l.head))\n",
    "\n",
    "    count = 1\n",
    "    while temp != l.head:\n",
    "        \n",
    "        res.append(( nextGreatElem(temp)) )\n",
    "        count = count + 1\n",
    "        temp = temp.next\n",
    "        \n",
    "    return res"
   ]
  },
  {
   "cell_type": "code",
   "execution_count": 431,
   "id": "6347b21f",
   "metadata": {},
   "outputs": [],
   "source": [
    "# nums = [1,2,1,4,3]"
   ]
  },
  {
   "cell_type": "code",
   "execution_count": 432,
   "id": "7fca8d99",
   "metadata": {},
   "outputs": [
    {
     "name": "stdout",
     "output_type": "stream",
     "text": [
      "[3] 1\n",
      "[3, 3] 2\n",
      "[3, 3, 3] 1\n",
      "[3, 3, 3, 3] 4\n"
     ]
    },
    {
     "data": {
      "text/plain": [
       "4"
      ]
     },
     "execution_count": 432,
     "metadata": {},
     "output_type": "execute_result"
    }
   ],
   "source": [
    "nextGreatElem(l.head.next.next.next.next)"
   ]
  },
  {
   "cell_type": "code",
   "execution_count": 433,
   "id": "c11782cb",
   "metadata": {},
   "outputs": [
    {
     "name": "stdout",
     "output_type": "stream",
     "text": [
      "[1] 2\n",
      "[2] 1\n",
      "[2, 2] 4\n",
      "[1] 4\n",
      "[4] 3\n",
      "[4, 4] 1\n",
      "[4, 4, 4] 2\n",
      "[4, 4, 4, 4] 1\n",
      "[3] 1\n",
      "[3, 3] 2\n",
      "[3, 3, 3] 1\n",
      "[3, 3, 3, 3] 4\n"
     ]
    },
    {
     "data": {
      "text/plain": [
       "[2, 4, 4, -1, 4]"
      ]
     },
     "execution_count": 433,
     "metadata": {},
     "output_type": "execute_result"
    }
   ],
   "source": [
    "fin(l)"
   ]
  },
  {
   "cell_type": "code",
   "execution_count": 250,
   "id": "f728429e",
   "metadata": {},
   "outputs": [
    {
     "name": "stdout",
     "output_type": "stream",
     "text": [
      "[1] 2\n",
      "[2] 3\n",
      "[3] 4\n",
      "[4] 3\n",
      "[4, 4] 1\n",
      "[4, 4, 4] 2\n",
      "[4, 4, 4, 4] 3\n",
      "[3] 1\n",
      "[3, 3] 2\n",
      "[3, 3, 3] 3\n",
      "[3, 3, 3, 3] 4\n"
     ]
    },
    {
     "data": {
      "text/plain": [
       "[2, 3, 4, -1, 4]"
      ]
     },
     "execution_count": 250,
     "metadata": {},
     "output_type": "execute_result"
    }
   ],
   "source": [
    "fin(l)"
   ]
  },
  {
   "cell_type": "markdown",
   "id": "ad14a8ec",
   "metadata": {},
   "source": [
    "#### Solution Stack"
   ]
  },
  {
   "cell_type": "raw",
   "id": "7e15370b",
   "metadata": {},
   "source": [
    "https://leetcode.com/problems/next-greater-element-ii/solutions/3286577/503-solution-with-step-by-step-explanation/"
   ]
  },
  {
   "cell_type": "raw",
   "id": "2f88b9d2",
   "metadata": {},
   "source": [
    "https://leetcode.com/problems/next-greater-element-ii/solutions/3750737/python-easy-o-n-stack/"
   ]
  },
  {
   "cell_type": "raw",
   "id": "524f4d86",
   "metadata": {},
   "source": [
    "https://leetcode.com/problems/next-greater-element-ii/solutions/2520585/python-stack-98-78-faster-simplest-solution-with-explanation-beg-to-adv-monotonic-stack/"
   ]
  },
  {
   "cell_type": "markdown",
   "id": "3c8e5897",
   "metadata": {},
   "source": [
    "#### Solution Stack Self Attempt - after checking solution"
   ]
  },
  {
   "cell_type": "code",
   "execution_count": 378,
   "id": "51ae163b",
   "metadata": {},
   "outputs": [],
   "source": [
    "nums = [1,2,1,4,3]"
   ]
  },
  {
   "cell_type": "code",
   "execution_count": 420,
   "id": "f551d3db",
   "metadata": {},
   "outputs": [],
   "source": [
    "def next_greater(nums):\n",
    "    n = len(nums)\n",
    "    res = [-1] * n\n",
    "    stack = []\n",
    "    for i in range(2*n):\n",
    "        index = i % n\n",
    "        \n",
    "        while stack and nums[stack[-1]] < nums[index]:\n",
    "#             print(index, stack, res)\n",
    "            res[stack.pop()] = nums[index] \n",
    "        \n",
    "        stack.append(index)\n",
    "#         print(\"two\",index, stack, res)\n",
    "    return res"
   ]
  },
  {
   "cell_type": "code",
   "execution_count": 421,
   "id": "622cb830",
   "metadata": {},
   "outputs": [
    {
     "data": {
      "text/plain": [
       "[2, 4, 4, -1, 4]"
      ]
     },
     "execution_count": 421,
     "metadata": {},
     "output_type": "execute_result"
    }
   ],
   "source": [
    "next_greater(nums)"
   ]
  },
  {
   "cell_type": "markdown",
   "id": "ed191ebc",
   "metadata": {},
   "source": [
    "#### Queue approach (asked gpt to give this)"
   ]
  },
  {
   "cell_type": "raw",
   "id": "32a45a3c",
   "metadata": {},
   "source": [
    "GPT used deque() exactly like a stack\n",
    "Not advised to use queue for this"
   ]
  },
  {
   "cell_type": "code",
   "execution_count": 422,
   "id": "c6c16446",
   "metadata": {},
   "outputs": [],
   "source": [
    "nums = [1,2,1,4,3]"
   ]
  },
  {
   "cell_type": "code",
   "execution_count": 405,
   "id": "4cca9ab4",
   "metadata": {},
   "outputs": [],
   "source": [
    "from collections import deque\n",
    "\n",
    "def nextGreaterElements(nums):\n",
    "    n = len(nums)\n",
    "    result = [-1] * n\n",
    "    queue = deque()\n",
    "\n",
    "    # First traversal to enqueue indices\n",
    "    for i in range(2 * n):\n",
    "        print(queue)\n",
    "        while queue and nums[i % n] > nums[queue[-1]]:\n",
    "#             print(i % n, queue, result)\n",
    "\n",
    "            result[queue.pop()] = nums[i % n]\n",
    "        if i < n:\n",
    "            queue.append(i)\n",
    "            print(\"two\",i % n, queue, result)\n",
    "#             \n",
    "\n",
    "    return result\n"
   ]
  },
  {
   "cell_type": "code",
   "execution_count": 406,
   "id": "be6b15f2",
   "metadata": {},
   "outputs": [
    {
     "name": "stdout",
     "output_type": "stream",
     "text": [
      "deque([])\n",
      "two 0 deque([0]) [-1, -1, -1, -1, -1]\n",
      "deque([0])\n",
      "two 1 deque([1]) [2, -1, -1, -1, -1]\n",
      "deque([1])\n",
      "two 2 deque([1, 2]) [2, -1, -1, -1, -1]\n",
      "deque([1, 2])\n",
      "two 3 deque([3]) [2, 4, 4, -1, -1]\n",
      "deque([3])\n",
      "two 4 deque([3, 4]) [2, 4, 4, -1, -1]\n",
      "deque([3, 4])\n",
      "deque([3, 4])\n",
      "deque([3, 4])\n",
      "deque([3, 4])\n",
      "deque([3])\n"
     ]
    },
    {
     "data": {
      "text/plain": [
       "[2, 4, 4, -1, 4]"
      ]
     },
     "execution_count": 406,
     "metadata": {},
     "output_type": "execute_result"
    }
   ],
   "source": [
    "nextGreaterElements(nums)"
   ]
  },
  {
   "cell_type": "markdown",
   "id": "a7c2557b",
   "metadata": {},
   "source": [
    "#### Next problem that can be attempted"
   ]
  },
  {
   "cell_type": "markdown",
   "id": "bf928ae2",
   "metadata": {},
   "source": [
    "https://leetcode.com/problems/two-sum/"
   ]
  },
  {
   "cell_type": "markdown",
   "id": "4b362546",
   "metadata": {},
   "source": [
    "https://leetcode.com/problems/next-greater-element-iii/description/"
   ]
  },
  {
   "cell_type": "code",
   "execution_count": null,
   "id": "321d9bb2",
   "metadata": {},
   "outputs": [],
   "source": []
  }
 ],
 "metadata": {
  "kernelspec": {
   "display_name": "Python 3 (ipykernel)",
   "language": "python",
   "name": "python3"
  },
  "language_info": {
   "codemirror_mode": {
    "name": "ipython",
    "version": 3
   },
   "file_extension": ".py",
   "mimetype": "text/x-python",
   "name": "python",
   "nbconvert_exporter": "python",
   "pygments_lexer": "ipython3",
   "version": "3.9.12"
  }
 },
 "nbformat": 4,
 "nbformat_minor": 5
}
