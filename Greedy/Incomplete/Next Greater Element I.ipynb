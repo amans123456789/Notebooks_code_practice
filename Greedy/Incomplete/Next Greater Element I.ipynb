{
 "cells": [
  {
   "cell_type": "code",
   "execution_count": 12,
   "id": "8c78d7bc",
   "metadata": {},
   "outputs": [],
   "source": [
    "nums1 = [4,1,2]\n",
    "nums2 = [1,3,4,2,10, 8]"
   ]
  },
  {
   "cell_type": "markdown",
   "id": "51206ea9",
   "metadata": {},
   "source": [
    "https://leetcode.com/problems/next-greater-element-i/solutions/"
   ]
  },
  {
   "cell_type": "raw",
   "id": "b963425a",
   "metadata": {},
   "source": [
    "Hashmap: https://leetcode.com/problems/next-greater-element-i/solutions/2775053/python-solution-hashmap/"
   ]
  },
  {
   "cell_type": "raw",
   "id": "3891375c",
   "metadata": {},
   "source": [
    "Stack : https://leetcode.com/problems/next-greater-element-i/solutions/824654/python-3-94-64-faster-used-stack-and-dictionary-explanation-added/\n",
    "https://leetcode.com/problems/next-greater-element-i/solutions/2705750/python-easy-solution-easy-to-understand-explained/"
   ]
  },
  {
   "cell_type": "markdown",
   "id": "a825f118",
   "metadata": {},
   "source": [
    "#### Geek for Geek : https://www.geeksforgeeks.org/next-greater-element/"
   ]
  },
  {
   "cell_type": "markdown",
   "id": "5c6a8e72",
   "metadata": {},
   "source": [
    "#### Hashmap Approach"
   ]
  },
  {
   "cell_type": "markdown",
   "id": "4735fb1c",
   "metadata": {},
   "source": [
    "#### Stack"
   ]
  },
  {
   "cell_type": "code",
   "execution_count": 13,
   "id": "bd540173",
   "metadata": {},
   "outputs": [],
   "source": [
    "def nextGreatElem(nums1, nums2):\n",
    "    ans = {}\n",
    "    res = []\n",
    "    stack = []\n",
    "    \n",
    "    for n2 in nums2:\n",
    "        while stack and n2 > stack[-1]:\n",
    "            print(\"one\",stack)\n",
    "            ans[stack.pop()] = n2\n",
    "            print(\"two\",ans)\n",
    "        stack.append(n2)\n",
    "    \n",
    "    for n1 in nums1:                      \n",
    "        res.append(ans.get(n1))  \n",
    "    return res"
   ]
  },
  {
   "cell_type": "code",
   "execution_count": 14,
   "id": "6c4649eb",
   "metadata": {},
   "outputs": [
    {
     "name": "stdout",
     "output_type": "stream",
     "text": [
      "one [1]\n",
      "two {1: 3}\n",
      "one [3]\n",
      "two {1: 3, 3: 4}\n",
      "one [4, 2]\n",
      "two {1: 3, 3: 4, 2: 10}\n",
      "one [4]\n",
      "two {1: 3, 3: 4, 2: 10, 4: 10}\n"
     ]
    },
    {
     "data": {
      "text/plain": [
       "[10, 3, 10]"
      ]
     },
     "execution_count": 14,
     "metadata": {},
     "output_type": "execute_result"
    }
   ],
   "source": [
    "nextGreatElem(nums1, nums2)"
   ]
  },
  {
   "cell_type": "code",
   "execution_count": null,
   "id": "16b833da",
   "metadata": {},
   "outputs": [],
   "source": []
  }
 ],
 "metadata": {
  "kernelspec": {
   "display_name": "Python 3 (ipykernel)",
   "language": "python",
   "name": "python3"
  },
  "language_info": {
   "codemirror_mode": {
    "name": "ipython",
    "version": 3
   },
   "file_extension": ".py",
   "mimetype": "text/x-python",
   "name": "python",
   "nbconvert_exporter": "python",
   "pygments_lexer": "ipython3",
   "version": "3.9.12"
  }
 },
 "nbformat": 4,
 "nbformat_minor": 5
}
