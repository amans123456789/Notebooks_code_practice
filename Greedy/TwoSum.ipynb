{
 "cells": [
  {
   "cell_type": "markdown",
   "id": "33127a31",
   "metadata": {},
   "source": [
    "https://leetcode.com/problems/two-sum/"
   ]
  },
  {
   "cell_type": "markdown",
   "id": "15c59abb",
   "metadata": {},
   "source": [
    "solution : https://leetcode.com/problems/two-sum/solutions/3925026/video-step-by-step-visualization-of-o-n-solution/"
   ]
  },
  {
   "cell_type": "code",
   "execution_count": null,
   "id": "94d27901",
   "metadata": {},
   "outputs": [],
   "source": [
    "nums = [2,7,11,15]\n",
    "target = 9\n",
    "\n",
    "nums =[3,2,4]\n",
    "target = 6\n",
    "\n",
    "# nums = [3,3]\n",
    "# target = 6"
   ]
  },
  {
   "cell_type": "markdown",
   "id": "06684382",
   "metadata": {},
   "source": [
    "#### Hash Map"
   ]
  },
  {
   "cell_type": "code",
   "execution_count": 111,
   "id": "fff8c633",
   "metadata": {},
   "outputs": [],
   "source": [
    "dic = {}"
   ]
  },
  {
   "cell_type": "code",
   "execution_count": 112,
   "id": "4cfc4ee3",
   "metadata": {},
   "outputs": [
    {
     "name": "stdout",
     "output_type": "stream",
     "text": [
      "True\n",
      "True\n",
      "True\n"
     ]
    }
   ],
   "source": [
    "for i in (nums):\n",
    "    if i not in dic.keys():\n",
    "        dic[i] = target - i\n",
    "for key, i in dic.items():\n",
    "    if i in nums:\n",
    "        print(True)"
   ]
  },
  {
   "cell_type": "code",
   "execution_count": null,
   "id": "72443881",
   "metadata": {},
   "outputs": [],
   "source": [
    "def two_sum(nums):\n",
    "    res = []\n",
    "    occurence = []\n",
    "    dic = {}\n",
    "    for i in range(len(nums)):\n",
    "#         if i not in dic.keys():\n",
    "        dic[i] = target - nums[i]\n",
    "    print(dic)\n",
    "    \n",
    "#     for key, j in dic.items():\n",
    "#         if j in nums :\n",
    "#             if \n",
    "#             res.append(key)\n",
    "#             second_index = nums.index(j)\n",
    "            \n",
    "#             print(second_index)\n",
    "            \n",
    "    return res\n",
    "    \n",
    "#     for key, j in dic.items():\n",
    "#         if j in nums :\n",
    "#             occurence.append(key)\n",
    "#     print(occurence, occurence[-1])    \n",
    "#     for key, j in dic.items():\n",
    "#         if j in nums :\n",
    "#             print(nums[key] , )\n",
    "#             res.append((key))\n",
    "#             res.append((occurence[-1]))\n",
    "#             return res"
   ]
  },
  {
   "cell_type": "code",
   "execution_count": null,
   "id": "3a32d523",
   "metadata": {},
   "outputs": [],
   "source": [
    "two_sum(nums)"
   ]
  },
  {
   "cell_type": "code",
   "execution_count": null,
   "id": "00a58a9c",
   "metadata": {},
   "outputs": [],
   "source": []
  }
 ],
 "metadata": {
  "kernelspec": {
   "display_name": "Python 3 (ipykernel)",
   "language": "python",
   "name": "python3"
  },
  "language_info": {
   "codemirror_mode": {
    "name": "ipython",
    "version": 3
   },
   "file_extension": ".py",
   "mimetype": "text/x-python",
   "name": "python",
   "nbconvert_exporter": "python",
   "pygments_lexer": "ipython3",
   "version": "3.9.12"
  }
 },
 "nbformat": 4,
 "nbformat_minor": 5
}
