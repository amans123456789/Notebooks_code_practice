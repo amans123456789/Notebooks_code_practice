{
 "cells": [
  {
   "cell_type": "markdown",
   "id": "548ce7d9",
   "metadata": {},
   "source": [
    "https://leetcode.com/problems/two-sum/"
   ]
  },
  {
   "cell_type": "markdown",
   "id": "d426a294",
   "metadata": {},
   "source": [
    "solution : https://leetcode.com/problems/two-sum/solutions/3925026/video-step-by-step-visualization-of-o-n-solution/"
   ]
  },
  {
   "cell_type": "code",
   "execution_count": 1,
   "id": "d3a1479b",
   "metadata": {},
   "outputs": [],
   "source": [
    "nums = [2,7,11,15]\n",
    "target = 9\n",
    "\n",
    "nums =[3,2,4]\n",
    "target = 6\n",
    "\n",
    "# nums = [3,3]\n",
    "# target = 6"
   ]
  },
  {
   "cell_type": "markdown",
   "id": "86d71a45",
   "metadata": {},
   "source": [
    "#### Hash Map"
   ]
  },
  {
   "cell_type": "code",
   "execution_count": 2,
   "id": "6069e467",
   "metadata": {},
   "outputs": [],
   "source": [
    "dic = {}"
   ]
  },
  {
   "cell_type": "code",
   "execution_count": 3,
   "id": "9e46e733",
   "metadata": {},
   "outputs": [
    {
     "name": "stdout",
     "output_type": "stream",
     "text": [
      "True\n",
      "True\n",
      "True\n"
     ]
    }
   ],
   "source": [
    "for i in (nums):\n",
    "    if i not in dic.keys():\n",
    "        dic[i] = target - i\n",
    "for key, i in dic.items():\n",
    "    if i in nums:\n",
    "        print(True)"
   ]
  },
  {
   "cell_type": "code",
   "execution_count": null,
   "id": "9cf35e69",
   "metadata": {},
   "outputs": [],
   "source": [
    "nums =[3,2,4]\n",
    "target = 6"
   ]
  },
  {
   "cell_type": "code",
   "execution_count": 44,
   "id": "d9b41cd2",
   "metadata": {},
   "outputs": [],
   "source": [
    "def two_sum(nums):\n",
    "    res = []\n",
    "    dic = {}\n",
    "    for i in range(len(nums)):\n",
    "        dig = target - nums[i]\n",
    "        if dig in dic:\n",
    "            res.append(dic[dig])\n",
    "            res.append(i)\n",
    "            return res\n",
    "        dic[nums[i]] = i\n",
    "    return -1"
   ]
  },
  {
   "cell_type": "code",
   "execution_count": 45,
   "id": "aaec877b",
   "metadata": {},
   "outputs": [
    {
     "data": {
      "text/plain": [
       "[1, 2]"
      ]
     },
     "execution_count": 45,
     "metadata": {},
     "output_type": "execute_result"
    }
   ],
   "source": [
    "two_sum(nums)"
   ]
  },
  {
   "cell_type": "code",
   "execution_count": null,
   "id": "214396a3",
   "metadata": {},
   "outputs": [],
   "source": []
  }
 ],
 "metadata": {
  "kernelspec": {
   "display_name": "Python 3 (ipykernel)",
   "language": "python",
   "name": "python3"
  },
  "language_info": {
   "codemirror_mode": {
    "name": "ipython",
    "version": 3
   },
   "file_extension": ".py",
   "mimetype": "text/x-python",
   "name": "python",
   "nbconvert_exporter": "python",
   "pygments_lexer": "ipython3",
   "version": "3.9.12"
  }
 },
 "nbformat": 4,
 "nbformat_minor": 5
}
