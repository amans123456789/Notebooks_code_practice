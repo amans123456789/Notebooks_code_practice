{
 "cells": [
  {
   "cell_type": "markdown",
   "id": "548ce7d9",
   "metadata": {},
   "source": [
    "https://leetcode.com/problems/two-sum/"
   ]
  },
  {
   "cell_type": "markdown",
   "id": "d426a294",
   "metadata": {},
   "source": [
    "solution : https://leetcode.com/problems/two-sum/solutions/3925026/video-step-by-step-visualization-of-o-n-solution/"
   ]
  },
  {
   "cell_type": "code",
   "execution_count": 1,
   "id": "d3a1479b",
   "metadata": {},
   "outputs": [],
   "source": [
    "nums = [2,7,11,15]\n",
    "target = 9\n",
    "\n",
    "nums =[3,2,4]\n",
    "target = 6\n",
    "\n",
    "# nums = [3,3]\n",
    "# target = 6"
   ]
  },
  {
   "cell_type": "markdown",
   "id": "86d71a45",
   "metadata": {},
   "source": [
    "#### Hash Map"
   ]
  },
  {
   "cell_type": "code",
   "execution_count": 2,
   "id": "6069e467",
   "metadata": {},
   "outputs": [],
   "source": [
    "dic = {}"
   ]
  },
  {
   "cell_type": "code",
   "execution_count": 3,
   "id": "9e46e733",
   "metadata": {},
   "outputs": [
    {
     "name": "stdout",
     "output_type": "stream",
     "text": [
      "True\n",
      "True\n",
      "True\n"
     ]
    }
   ],
   "source": [
    "for i in (nums):\n",
    "    if i not in dic.keys():\n",
    "        dic[i] = target - i\n",
    "for key, i in dic.items():\n",
    "    if i in nums:\n",
    "        print(True)"
   ]
  },
  {
   "cell_type": "code",
   "execution_count": null,
   "id": "5a251baf",
   "metadata": {},
   "outputs": [],
   "source": [
    "nums =[3,2,4]\n",
    "target = 6"
   ]
  },
  {
   "cell_type": "code",
   "execution_count": 44,
   "id": "8f19f502",
   "metadata": {},
   "outputs": [],
   "source": [
    "def two_sum(nums):\n",
    "    res = []\n",
    "    dic = {}\n",
    "    for i in range(len(nums)):\n",
    "        dig = target - nums[i]\n",
    "        if dig in dic:\n",
    "            res.append(dic[dig])\n",
    "            res.append(i)\n",
    "            return res\n",
    "        dic[nums[i]] = i\n",
    "    return -1"
   ]
  },
  {
   "cell_type": "code",
   "execution_count": 45,
   "id": "6f7ef1f9",
   "metadata": {},
   "outputs": [
    {
     "data": {
      "text/plain": [
       "[1, 2]"
      ]
     },
     "execution_count": 45,
     "metadata": {},
     "output_type": "execute_result"
    }
   ],
   "source": [
    "two_sum(nums)"
   ]
  },
  {
   "cell_type": "code",
   "execution_count": 42,
   "id": "5a3f0345",
   "metadata": {},
   "outputs": [],
   "source": [
    "def two_sum(nums):\n",
    "    res = []\n",
    "    occurence = []\n",
    "    dic = {}\n",
    "    for i in range(len(nums)):\n",
    "#         if i not in dic.keys():\n",
    "        dig = target - nums[i]\n",
    "        print(dig)\n",
    "        if dig in dic:\n",
    "            print(\"yes\")\n",
    "            res.append([i, dic[dig]])\n",
    "            \n",
    "        else:\n",
    "            dic[nums[i]] = i\n",
    "    print(dig)\n",
    "    \n",
    "#     for key, j in dic.items():\n",
    "#         if j in nums :\n",
    "#             if \n",
    "#             res.append(key)\n",
    "#             second_index = nums.index(j)\n",
    "            \n",
    "#             print(second_index)\n",
    "            \n",
    "    return dic, res\n",
    "    \n",
    "#     for key, j in dic.items():\n",
    "#         if j in nums :\n",
    "#             occurence.append(key)\n",
    "#     print(occurence, occurence[-1])    \n",
    "#     for key, j in dic.items():\n",
    "#         if j in nums :\n",
    "#             print(nums[key] , )\n",
    "#             res.append((key))\n",
    "#             res.append((occurence[-1]))\n",
    "#             return res"
   ]
  },
  {
   "cell_type": "code",
   "execution_count": 43,
   "id": "cd5b3910",
   "metadata": {},
   "outputs": [
    {
     "name": "stdout",
     "output_type": "stream",
     "text": [
      "3\n",
      "4\n",
      "2\n",
      "yes\n",
      "2\n"
     ]
    },
    {
     "data": {
      "text/plain": [
       "({3: 0, 2: 1}, [[2, 1]])"
      ]
     },
     "execution_count": 43,
     "metadata": {},
     "output_type": "execute_result"
    }
   ],
   "source": [
    "two_sum(nums)"
   ]
  },
  {
   "cell_type": "code",
   "execution_count": 39,
   "id": "cf747970",
   "metadata": {},
   "outputs": [
    {
     "ename": "NameError",
     "evalue": "name 'res' is not defined",
     "output_type": "error",
     "traceback": [
      "\u001b[1;31m---------------------------------------------------------------------------\u001b[0m",
      "\u001b[1;31mNameError\u001b[0m                                 Traceback (most recent call last)",
      "Input \u001b[1;32mIn [39]\u001b[0m, in \u001b[0;36m<cell line: 1>\u001b[1;34m()\u001b[0m\n\u001b[1;32m----> 1\u001b[0m \u001b[43mres\u001b[49m\n",
      "\u001b[1;31mNameError\u001b[0m: name 'res' is not defined"
     ]
    }
   ],
   "source": [
    "res"
   ]
  },
  {
   "cell_type": "code",
   "execution_count": null,
   "id": "1f3f4272",
   "metadata": {},
   "outputs": [],
   "source": []
  }
 ],
 "metadata": {
  "kernelspec": {
   "display_name": "Python 3 (ipykernel)",
   "language": "python",
   "name": "python3"
  },
  "language_info": {
   "codemirror_mode": {
    "name": "ipython",
    "version": 3
   },
   "file_extension": ".py",
   "mimetype": "text/x-python",
   "name": "python",
   "nbconvert_exporter": "python",
   "pygments_lexer": "ipython3",
   "version": "3.9.12"
  }
 },
 "nbformat": 4,
 "nbformat_minor": 5
}
