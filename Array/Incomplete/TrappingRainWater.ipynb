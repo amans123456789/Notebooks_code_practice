{
 "cells": [
  {
   "cell_type": "raw",
   "id": "473e975a",
   "metadata": {},
   "source": [
    "https://leetcode.com/problems/trapping-rain-water/"
   ]
  },
  {
   "cell_type": "markdown",
   "id": "e369e69a",
   "metadata": {},
   "source": [
    "Solution: https://leetcode.com/problems/trapping-rain-water/solutions/3401992/100-detailed-explaination-with-pictures-in-c-java-python-two-pointers/"
   ]
  },
  {
   "cell_type": "markdown",
   "id": "256a6157",
   "metadata": {},
   "source": [
    "### Trapping Rain Water"
   ]
  },
  {
   "cell_type": "code",
   "execution_count": 72,
   "id": "9c53fea4",
   "metadata": {},
   "outputs": [],
   "source": [
    "height = [0,1,0,2,1,0,1,3,2,1,2,1]\n",
    "height = [4,2,0,3,2,5]\n",
    "Output = 6"
   ]
  },
  {
   "cell_type": "code",
   "execution_count": 91,
   "id": "95a4b6eb",
   "metadata": {},
   "outputs": [],
   "source": [
    "def trw(height):\n",
    "    n = len(height)\n",
    "    \n",
    "    l = {}\n",
    "    r = {}\n",
    "    \n",
    "    max_l_height = 0\n",
    "    l[0] = max_l_height\n",
    "    for i in range(n):\n",
    "        l[i] = max_l_height\n",
    "        if height[i] > max_l_height:\n",
    "            max_l_height = height[i]\n",
    "            l[i] = max_l_height\n",
    "            \n",
    "    max_r_height = 0        \n",
    "    r[n-1] = max_r_height   \n",
    "    \n",
    "    for i in range(n-1,-1,-1):\n",
    "        r[i] = max_r_height\n",
    "        if height[i] > max_r_height:\n",
    "            max_r_height = height[i]\n",
    "            r[i] = max_r_height\n",
    "    \n",
    "    return l, r"
   ]
  },
  {
   "cell_type": "code",
   "execution_count": 95,
   "id": "7eb2a71a",
   "metadata": {},
   "outputs": [
    {
     "data": {
      "text/plain": [
       "([0, 4, 4, 4, 4, 4], [5, 5, 5, 5, 5, 0])"
      ]
     },
     "execution_count": 95,
     "metadata": {},
     "output_type": "execute_result"
    }
   ],
   "source": [
    "l, r = trw(height)\n",
    "l, r"
   ]
  },
  {
   "cell_type": "code",
   "execution_count": 96,
   "id": "6aa512f4",
   "metadata": {},
   "outputs": [
    {
     "name": "stdout",
     "output_type": "stream",
     "text": [
      "-4\n",
      "-2\n",
      "2\n",
      "3\n",
      "5\n",
      "0\n"
     ]
    }
   ],
   "source": [
    "output = 0\n",
    "for i in range(len(height)):\n",
    "    output = output - height[i] + min(l[i], r[i]) \n",
    "    print(output)"
   ]
  },
  {
   "cell_type": "code",
   "execution_count": 84,
   "id": "562a76a8",
   "metadata": {},
   "outputs": [
    {
     "data": {
      "text/plain": [
       "9"
      ]
     },
     "execution_count": 84,
     "metadata": {},
     "output_type": "execute_result"
    }
   ],
   "source": [
    "output"
   ]
  },
  {
   "cell_type": "code",
   "execution_count": null,
   "id": "3deb4257",
   "metadata": {},
   "outputs": [],
   "source": [
    "https://leetcode.com/problems/trapping-rain-water-ii/description/"
   ]
  }
 ],
 "metadata": {
  "kernelspec": {
   "display_name": "Python 3 (ipykernel)",
   "language": "python",
   "name": "python3"
  },
  "language_info": {
   "codemirror_mode": {
    "name": "ipython",
    "version": 3
   },
   "file_extension": ".py",
   "mimetype": "text/x-python",
   "name": "python",
   "nbconvert_exporter": "python",
   "pygments_lexer": "ipython3",
   "version": "3.9.12"
  }
 },
 "nbformat": 4,
 "nbformat_minor": 5
}
