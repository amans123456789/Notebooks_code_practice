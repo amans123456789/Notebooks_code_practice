{
 "cells": [
  {
   "cell_type": "code",
   "execution_count": 41,
   "id": "a752a741",
   "metadata": {},
   "outputs": [],
   "source": [
    "import pandas as pd"
   ]
  },
  {
   "cell_type": "code",
   "execution_count": 42,
   "id": "e4d4a72e",
   "metadata": {},
   "outputs": [],
   "source": [
    "# arr = [2, 5, 8, 12, 16, 23, 38, 56, 72, 91]\n",
    "arr = [2, 3, 4, 30, 40]"
   ]
  },
  {
   "cell_type": "code",
   "execution_count": 43,
   "id": "03bf71b8",
   "metadata": {},
   "outputs": [],
   "source": [
    "target = 30"
   ]
  },
  {
   "cell_type": "code",
   "execution_count": 44,
   "id": "8b5ce454",
   "metadata": {},
   "outputs": [],
   "source": [
    "def bin_search(arr, target, left, right):\n",
    "#     n = len(arr)\n",
    "#     right = n\n",
    "#     left = 0\n",
    "    mid = left + (right - left) // 2\n",
    "    if right >= left and mid < len(arr):\n",
    "        \n",
    "        print(left, mid, right)\n",
    "        if arr[mid] == target:\n",
    "            return mid\n",
    "    #     print(mid)\n",
    "        if arr[mid] > target:\n",
    "            right = mid - 1\n",
    "            return bin_search(arr, target, left, right)\n",
    "\n",
    "        if arr[mid] < target:\n",
    "            left = mid + 1\n",
    "            return bin_search(arr, target, left, right)\n",
    "\n",
    "    return -1"
   ]
  },
  {
   "cell_type": "code",
   "execution_count": 45,
   "id": "bd166f4a",
   "metadata": {},
   "outputs": [
    {
     "name": "stdout",
     "output_type": "stream",
     "text": [
      "0 2 5\n",
      "3 4 5\n",
      "3 3 3\n"
     ]
    },
    {
     "data": {
      "text/plain": [
       "3"
      ]
     },
     "execution_count": 45,
     "metadata": {},
     "output_type": "execute_result"
    }
   ],
   "source": [
    "bin_search(arr, target, 0, len(arr))"
   ]
  },
  {
   "cell_type": "code",
   "execution_count": null,
   "id": "fd2e17b3",
   "metadata": {},
   "outputs": [],
   "source": []
  }
 ],
 "metadata": {
  "kernelspec": {
   "display_name": "Python 3 (ipykernel)",
   "language": "python",
   "name": "python3"
  },
  "language_info": {
   "codemirror_mode": {
    "name": "ipython",
    "version": 3
   },
   "file_extension": ".py",
   "mimetype": "text/x-python",
   "name": "python",
   "nbconvert_exporter": "python",
   "pygments_lexer": "ipython3",
   "version": "3.9.12"
  }
 },
 "nbformat": 4,
 "nbformat_minor": 5
}
