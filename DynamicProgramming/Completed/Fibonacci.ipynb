{
 "cells": [
  {
   "cell_type": "code",
   "execution_count": 1,
   "id": "a2ba04be",
   "metadata": {},
   "outputs": [],
   "source": [
    "import pandas as pd"
   ]
  },
  {
   "cell_type": "markdown",
   "id": "5066d389",
   "metadata": {},
   "source": [
    "Q. Given a number ‘n’, the task is to print the Fibonacci series"
   ]
  },
  {
   "cell_type": "markdown",
   "id": "1ef304e8",
   "metadata": {},
   "source": [
    "#### Iteration"
   ]
  },
  {
   "cell_type": "code",
   "execution_count": 20,
   "id": "33561507",
   "metadata": {},
   "outputs": [],
   "source": [
    "def fib(n):\n",
    "    dp = [-1] * n\n",
    "    dp[0] = 0\n",
    "    dp[1] = 1\n",
    "\n",
    "    for i in range(2,n):\n",
    "        dp[i] = dp[i-1] + dp[i-2]\n",
    "        \n",
    "    return dp\n",
    "    "
   ]
  },
  {
   "cell_type": "code",
   "execution_count": 21,
   "id": "3f0c2910",
   "metadata": {},
   "outputs": [
    {
     "data": {
      "text/plain": [
       "[0, 1, 1, 2, 3, 5, 8, 13, 21, 34, 55, 89]"
      ]
     },
     "execution_count": 21,
     "metadata": {},
     "output_type": "execute_result"
    }
   ],
   "source": [
    "fib(12)"
   ]
  },
  {
   "cell_type": "markdown",
   "id": "d93c193a",
   "metadata": {},
   "source": [
    "#### Recurrsion"
   ]
  },
  {
   "cell_type": "code",
   "execution_count": 46,
   "id": "621c4818",
   "metadata": {},
   "outputs": [],
   "source": [
    "dp = [0,1]\n",
    "def fib(n):\n",
    "\n",
    "    if n < len(dp):\n",
    "        return dp[n]\n",
    "    dp.append(fib(n-2) + fib(n-1))\n",
    "    print(dp)\n",
    "    return dp[n]"
   ]
  },
  {
   "cell_type": "code",
   "execution_count": 47,
   "id": "ce3235ad",
   "metadata": {},
   "outputs": [
    {
     "name": "stdout",
     "output_type": "stream",
     "text": [
      "[0, 1, 1]\n",
      "[0, 1, 1, 2]\n",
      "[0, 1, 1, 2, 3]\n",
      "[0, 1, 1, 2, 3, 5]\n",
      "[0, 1, 1, 2, 3, 5, 8]\n",
      "[0, 1, 1, 2, 3, 5, 8, 13]\n",
      "[0, 1, 1, 2, 3, 5, 8, 13, 21]\n",
      "[0, 1, 1, 2, 3, 5, 8, 13, 21, 34]\n",
      "[0, 1, 1, 2, 3, 5, 8, 13, 21, 34, 55]\n",
      "[0, 1, 1, 2, 3, 5, 8, 13, 21, 34, 55, 89]\n",
      "[0, 1, 1, 2, 3, 5, 8, 13, 21, 34, 55, 89, 144]\n"
     ]
    },
    {
     "data": {
      "text/plain": [
       "144"
      ]
     },
     "execution_count": 47,
     "metadata": {},
     "output_type": "execute_result"
    }
   ],
   "source": [
    "fib(12)"
   ]
  },
  {
   "cell_type": "code",
   "execution_count": null,
   "id": "60dbcd6e",
   "metadata": {},
   "outputs": [],
   "source": []
  }
 ],
 "metadata": {
  "kernelspec": {
   "display_name": "Python 3 (ipykernel)",
   "language": "python",
   "name": "python3"
  },
  "language_info": {
   "codemirror_mode": {
    "name": "ipython",
    "version": 3
   },
   "file_extension": ".py",
   "mimetype": "text/x-python",
   "name": "python",
   "nbconvert_exporter": "python",
   "pygments_lexer": "ipython3",
   "version": "3.9.12"
  }
 },
 "nbformat": 4,
 "nbformat_minor": 5
}
