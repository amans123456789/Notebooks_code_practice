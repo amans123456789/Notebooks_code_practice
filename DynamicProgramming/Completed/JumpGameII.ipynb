{
 "cells": [
  {
   "cell_type": "markdown",
   "id": "94d9da75",
   "metadata": {},
   "source": [
    "Problem: https://leetcode.com/problems/jump-game-ii/"
   ]
  },
  {
   "cell_type": "code",
   "execution_count": 236,
   "id": "65fe2b62",
   "metadata": {},
   "outputs": [],
   "source": [
    "nums = [2,3,1,1,4]"
   ]
  },
  {
   "cell_type": "code",
   "execution_count": 185,
   "id": "951c8a4f",
   "metadata": {},
   "outputs": [],
   "source": [
    "# nums = [3,4,2,2,5]\n",
    "nums = [7,4,2,2,5]"
   ]
  },
  {
   "cell_type": "code",
   "execution_count": 200,
   "id": "22055959",
   "metadata": {},
   "outputs": [],
   "source": [
    "nums = [2,0,1,0,4]"
   ]
  },
  {
   "cell_type": "code",
   "execution_count": 19,
   "id": "26850a06",
   "metadata": {},
   "outputs": [],
   "source": [
    "nums = [2,1,3,1,1,1,1,5]"
   ]
  },
  {
   "cell_type": "code",
   "execution_count": 7,
   "id": "0e295ae9",
   "metadata": {},
   "outputs": [],
   "source": [
    "nums = [1,2,1,1,1]"
   ]
  },
  {
   "cell_type": "code",
   "execution_count": 8,
   "id": "969f7709",
   "metadata": {},
   "outputs": [
    {
     "data": {
      "text/plain": [
       "5"
      ]
     },
     "execution_count": 8,
     "metadata": {},
     "output_type": "execute_result"
    }
   ],
   "source": [
    "len(nums)"
   ]
  },
  {
   "cell_type": "markdown",
   "id": "0c77b14e",
   "metadata": {},
   "source": [
    "#### Recurrsion"
   ]
  },
  {
   "cell_type": "code",
   "execution_count": 17,
   "id": "eef77ebb",
   "metadata": {},
   "outputs": [],
   "source": [
    "count = 0\n",
    "def jump_game(nums,pos,steps):\n",
    "    m = float('inf') \n",
    "\n",
    "    if pos >= len(nums) - 1:\n",
    "        return steps\n",
    "    \n",
    "    new_pos = pos + nums[pos]\n",
    "    \n",
    "    \n",
    "    if new_pos != pos:\n",
    "        for i in range(pos+1, new_pos+1):\n",
    "            print(new_pos,i,steps,m)\n",
    "\n",
    "            m = min(m, jump_game(nums,i,steps+1))\n",
    "            print(\"second\",new_pos,i,steps,m)\n",
    "            \n",
    "        return m\n",
    "    return float('inf')"
   ]
  },
  {
   "cell_type": "code",
   "execution_count": 18,
   "id": "b297a50a",
   "metadata": {},
   "outputs": [
    {
     "name": "stdout",
     "output_type": "stream",
     "text": [
      "1 1 0 inf\n",
      "3 2 1 inf\n",
      "3 3 2 inf\n",
      "4 4 3 inf\n",
      "steps 4 4 3 4\n",
      "steps 3 3 2 4\n",
      "steps 3 2 1 4\n",
      "3 3 1 4\n",
      "4 4 2 inf\n",
      "steps 4 4 2 3\n",
      "steps 3 3 1 3\n",
      "steps 1 1 0 3\n"
     ]
    },
    {
     "data": {
      "text/plain": [
       "3"
      ]
     },
     "execution_count": 18,
     "metadata": {},
     "output_type": "execute_result"
    }
   ],
   "source": [
    "jump_game(nums,0,0)"
   ]
  },
  {
   "cell_type": "markdown",
   "id": "abac468d",
   "metadata": {},
   "source": [
    "#### Tabulation"
   ]
  },
  {
   "cell_type": "raw",
   "id": "24ed0be1",
   "metadata": {},
   "source": [
    "https://www.geeksforgeeks.org/minimum-number-of-jumps-to-reach-end-of-a-given-array/"
   ]
  },
  {
   "cell_type": "code",
   "execution_count": 302,
   "id": "304a7b61",
   "metadata": {},
   "outputs": [],
   "source": [
    "nums = [2,3,1,1,4]\n",
    "# nums = [6,2,6,1,7,9,3,5,3,7,2,8,9,4,7,7,2,2,8,4,6,6,1,3]"
   ]
  },
  {
   "cell_type": "code",
   "execution_count": 305,
   "id": "d2146170",
   "metadata": {},
   "outputs": [],
   "source": [
    "\n",
    "def jump_game_tab(nums): \n",
    "    dp = [float('inf')] * len(nums) \n",
    "\n",
    "#     if pos <= 0:\n",
    "# #         dp[pos] = steps\n",
    "#         return dp[0]\n",
    "    \n",
    "#     if dp[pos] != float('inf'):\n",
    "#         return dp[pos]\n",
    "    \n",
    "    dp[0] = 0\n",
    "    for i in range(1, len(nums)):\n",
    "        for j in range(i):\n",
    "            if i <= j + nums[j]:\n",
    "                dp[i] = min(dp[i], 1 + dp[j])\n",
    "    \n",
    "    \n",
    "    \n",
    "#     if new_pos != pos:\n",
    "#         for i in range(pos+1, new_pos+1):\n",
    "#             print(new_pos,i,steps,dp)\n",
    "\n",
    "#             dp[new_pos] = min(dp[new_pos],jump_game(nums,i,steps+1))\n",
    "    return dp\n",
    "    "
   ]
  },
  {
   "cell_type": "code",
   "execution_count": 306,
   "id": "f0bac99d",
   "metadata": {},
   "outputs": [
    {
     "data": {
      "text/plain": [
       "[0, 1, 1, 2, 2]"
      ]
     },
     "execution_count": 306,
     "metadata": {},
     "output_type": "execute_result"
    }
   ],
   "source": [
    "jump_game_tab(nums)"
   ]
  },
  {
   "cell_type": "markdown",
   "id": "df0571bc",
   "metadata": {},
   "source": [
    "#### Recurrsion + Memoization"
   ]
  },
  {
   "cell_type": "markdown",
   "id": "729ee761",
   "metadata": {},
   "source": [
    "##### Done by Own: \n",
    "##### It gives wrong answer"
   ]
  },
  {
   "cell_type": "code",
   "execution_count": 1,
   "id": "605d6d47",
   "metadata": {},
   "outputs": [],
   "source": [
    "nums = [2,3,1,1,4]\n",
    "nums = [2,1,3,1,1,1,1,5]\n",
    "nums = [6,2,6,1,7,9,3,5,3,7,2,8,9,4,7,7,2,2,8,4,6,6,1,3]\n",
    "nums = [1,2,1,1,1]\n",
    "\n",
    "dp = [float('inf')] * (len(nums))\n",
    "# dp = [-1] * len(nums) \n",
    "\n",
    "# dp[0] = 0\n",
    "n = len(nums)\n",
    "def jump_game_dp(nums, pos,steps): \n",
    "    m = float(\"inf\")\n",
    "    if pos >= len(nums)-1:\n",
    "        dp[n-1] = min(dp[n-1], steps)\n",
    "        print(\"dp_ans\",dp[n-1])\n",
    "\n",
    "        return dp[n-1]\n",
    "    \n",
    "    if dp[pos] != float('inf'):\n",
    "        return dp[pos]\n",
    "    \n",
    "    new_pos = pos + nums[pos]\n",
    "\n",
    "    \n",
    "    if new_pos != pos:\n",
    "        for i in range(pos+1, new_pos+1):\n",
    "            print(new_pos,i,steps,dp)\n",
    "\n",
    "            m = min(m, jump_game_dp(nums,i,steps+1))\n",
    "            print(\"second\",new_pos,i,steps,dp)\n",
    "        dp[pos] = m\n",
    "        return dp[pos]\n",
    "    return float('inf')"
   ]
  },
  {
   "cell_type": "code",
   "execution_count": 3,
   "id": "ef84b8a1",
   "metadata": {},
   "outputs": [
    {
     "name": "stdout",
     "output_type": "stream",
     "text": [
      "1 1 0 [inf, inf, inf, inf, inf]\n",
      "3 2 1 [inf, inf, inf, inf, inf]\n",
      "3 3 2 [inf, inf, inf, inf, inf]\n",
      "4 4 3 [inf, inf, inf, inf, inf]\n",
      "dp_ans 4\n",
      "second 4 4 3 [inf, inf, inf, inf, 4]\n",
      "second 3 3 2 [inf, inf, inf, 4, 4]\n",
      "second 3 2 1 [inf, inf, 4, 4, 4]\n",
      "3 3 1 [inf, inf, 4, 4, 4]\n",
      "second 3 3 1 [inf, inf, 4, 4, 4]\n",
      "second 1 1 0 [inf, 4, 4, 4, 4]\n"
     ]
    },
    {
     "data": {
      "text/plain": [
       "4"
      ]
     },
     "execution_count": 3,
     "metadata": {},
     "output_type": "execute_result"
    }
   ],
   "source": [
    "\n",
    "jump_game_dp(nums, 0,0)"
   ]
  },
  {
   "cell_type": "markdown",
   "id": "3f1909b6",
   "metadata": {},
   "source": [
    "##### Above answer is corrected by ChatGPT"
   ]
  },
  {
   "cell_type": "code",
   "execution_count": 5,
   "id": "2dbabf98",
   "metadata": {},
   "outputs": [
    {
     "name": "stdout",
     "output_type": "stream",
     "text": [
      "3\n"
     ]
    }
   ],
   "source": [
    "def jump_game_dp(nums, pos, dp):\n",
    "    n = len(nums)\n",
    "    \n",
    "    if pos >= n - 1:\n",
    "        dp[pos] = 0\n",
    "        return 0\n",
    "    \n",
    "    if dp[pos] != -1:\n",
    "        return dp[pos]\n",
    "    \n",
    "    min_jumps = float(\"inf\")\n",
    "    max_reachable = min(pos + nums[pos], n - 1)\n",
    "    \n",
    "    for next_pos in range(pos + 1, max_reachable + 1):\n",
    "        jumps = jump_game_dp(nums, next_pos, dp)\n",
    "        if jumps != float(\"inf\"):\n",
    "            min_jumps = min(min_jumps, jumps + 1)\n",
    "    \n",
    "    dp[pos] = min_jumps\n",
    "    return dp[pos]\n",
    "\n",
    "def min_jumps_to_reach_end(nums):\n",
    "    n = len(nums)\n",
    "    dp = [-1] * n\n",
    "    return jump_game_dp(nums, 0, dp)\n",
    "\n",
    "nums = [1, 2, 1, 1, 1]\n",
    "result = min_jumps_to_reach_end(nums)\n",
    "print(result)  # This should output 3"
   ]
  },
  {
   "cell_type": "code",
   "execution_count": 6,
   "id": "6f8c93cf",
   "metadata": {},
   "outputs": [
    {
     "data": {
      "text/plain": [
       "3"
      ]
     },
     "execution_count": 6,
     "metadata": {},
     "output_type": "execute_result"
    }
   ],
   "source": [
    "min_jumps_to_reach_end(nums)"
   ]
  },
  {
   "cell_type": "markdown",
   "id": "d985b622",
   "metadata": {},
   "source": [
    "Key changes made:\n",
    "\n",
    "1. Pass the dp array as a parameter to the jump_game_dp function to maintain memoization.\n",
    "2. Initialize dp array with -1, indicating unvisited states.\n",
    "3. Update the base case when pos is greater than or equal to n - 1 to set dp[pos] to 0, since no jumps are needed from this point.\n",
    "4. Instead of comparing dp[pos] with float('inf'), use -1 to check if a state is unvisited.\n",
    "5. Use the variable max_reachable to limit the range of next possible positions based on the maximum reachable index.\n",
    "6. Calculate the minimum number of jumps for each next position and update the min_jumps accordingly.\n",
    "7. Finally, set dp[pos] to min_jumps and return it.\n",
    "Remember that this code uses memoization to avoid redundant computations and stores the minimum number of jumps needed to reach the end from each position in the dp array.\n",
    "\n",
    "\n",
    "\n",
    "\n"
   ]
  },
  {
   "cell_type": "raw",
   "id": "2401482b",
   "metadata": {},
   "source": [
    "Above approaches areO(n ^2)\n",
    "It can be further optimised using Greedy Approach to O(n)\n",
    "This approach isn't tried"
   ]
  },
  {
   "cell_type": "code",
   "execution_count": null,
   "id": "0533779b",
   "metadata": {},
   "outputs": [],
   "source": []
  }
 ],
 "metadata": {
  "kernelspec": {
   "display_name": "Python 3 (ipykernel)",
   "language": "python",
   "name": "python3"
  },
  "language_info": {
   "codemirror_mode": {
    "name": "ipython",
    "version": 3
   },
   "file_extension": ".py",
   "mimetype": "text/x-python",
   "name": "python",
   "nbconvert_exporter": "python",
   "pygments_lexer": "ipython3",
   "version": "3.9.12"
  }
 },
 "nbformat": 4,
 "nbformat_minor": 5
}
