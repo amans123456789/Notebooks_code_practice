{
 "cells": [
  {
   "cell_type": "markdown",
   "id": "dee010b4",
   "metadata": {},
   "source": [
    "Given an integer array nums, find the subarray with the largest sum, and return its sum."
   ]
  },
  {
   "cell_type": "code",
   "execution_count": 118,
   "id": "3e654a76",
   "metadata": {},
   "outputs": [],
   "source": [
    "nums = [-2,1,-3,4,-1,2,1,-5,4]\n",
    "nums = [5,4,-1,7,8]\n",
    "nums = [-2,-3,4,-1,-2,1,5,-3]\n",
    "\n",
    "# nums = [1]"
   ]
  },
  {
   "cell_type": "markdown",
   "id": "3183bd1b",
   "metadata": {},
   "source": [
    "Approach 1 : 2 D Matrix"
   ]
  },
  {
   "cell_type": "code",
   "execution_count": 119,
   "id": "6baf1cd5",
   "metadata": {},
   "outputs": [],
   "source": [
    "def max_2d(sub_array):\n",
    "    maxm = -1\n",
    "    for i in range(len(sub_array)):\n",
    "        for j in range(len(sub_array)):\n",
    "            if sub_array[i][j ] > maxm:\n",
    "                maxm = sub_array[i][j ]\n",
    "                i_loc = i\n",
    "                j_loc = j\n",
    "    return maxm, i_loc ,j_loc"
   ]
  },
  {
   "cell_type": "code",
   "execution_count": 120,
   "id": "f84f5a33",
   "metadata": {},
   "outputs": [],
   "source": [
    "def subarray_dp(nums):\n",
    "    n = len(nums)\n",
    "    \n",
    "    sub_array = [[0 for i in range(n+1)] for j in range(n+1)]\n",
    "    sub_array[0] = [0] + [-2,1,-3,4,-1,2,1,-5,4]\n",
    "    \n",
    "    for i in range(len(sub_array)):\n",
    "        for j in range(i+1,len(sub_array) ):\n",
    "            \n",
    "#             print(i,j,sub_array[j-1][i], nums[i])\n",
    "            sub_array[j][i] = sub_array[j-1][i] + nums[j-1]\n",
    "    maxm, end ,strt = max_2d(sub_array)\n",
    "    return strt, end - 1"
   ]
  },
  {
   "cell_type": "code",
   "execution_count": 121,
   "id": "448aa2f9",
   "metadata": {},
   "outputs": [
    {
     "data": {
      "text/plain": [
       "(2, 6)"
      ]
     },
     "execution_count": 121,
     "metadata": {},
     "output_type": "execute_result"
    }
   ],
   "source": [
    "res = subarray_dp(nums)\n",
    "res"
   ]
  },
  {
   "cell_type": "markdown",
   "id": "feb94ebc",
   "metadata": {},
   "source": [
    "Approach 2 : Recurrsion"
   ]
  },
  {
   "cell_type": "markdown",
   "id": "30644649",
   "metadata": {},
   "source": [
    "https://www.geeksforgeeks.org/largest-sum-contiguous-subarray/\n",
    "https://tutorialhorizon.com/algorithms/dynamic-programming-maximum-subarray-problem/"
   ]
  },
  {
   "cell_type": "code",
   "execution_count": 58,
   "id": "6b0e9130",
   "metadata": {},
   "outputs": [],
   "source": [
    "nums = [-2,1,-3,4,-1,2,1,-5,4]\n",
    "# nums = [1]"
   ]
  },
  {
   "cell_type": "code",
   "execution_count": 59,
   "id": "aee7ad37",
   "metadata": {},
   "outputs": [
    {
     "data": {
      "text/plain": [
       "-3"
      ]
     },
     "execution_count": 59,
     "metadata": {},
     "output_type": "execute_result"
    }
   ],
   "source": [
    "nums[2]"
   ]
  },
  {
   "cell_type": "code",
   "execution_count": 60,
   "id": "45529d07",
   "metadata": {},
   "outputs": [],
   "source": [
    "# dp = [0 for i in range(len(nums)+1) ]\n",
    "dp = [nums[0]]\n",
    "def recur_subarray(nums,n):\n",
    "    \n",
    "    if n == 0:\n",
    "        return dp[0]\n",
    "\n",
    "    if n < len(dp):\n",
    "        return dp[n]\n",
    "\n",
    "\n",
    "    dp.append( max(recur_subarray(nums,n-1) + nums[n], nums[n]) )\n",
    "    print( dp)\n",
    "\n",
    "    return dp[n]\n"
   ]
  },
  {
   "cell_type": "code",
   "execution_count": 61,
   "id": "aae05136",
   "metadata": {},
   "outputs": [
    {
     "name": "stdout",
     "output_type": "stream",
     "text": [
      "[-2, 1]\n",
      "[-2, 1, -2]\n",
      "[-2, 1, -2, 4]\n",
      "[-2, 1, -2, 4, 3]\n",
      "[-2, 1, -2, 4, 3, 5]\n",
      "[-2, 1, -2, 4, 3, 5, 6]\n",
      "[-2, 1, -2, 4, 3, 5, 6, 1]\n",
      "[-2, 1, -2, 4, 3, 5, 6, 1, 5]\n"
     ]
    },
    {
     "data": {
      "text/plain": [
       "5"
      ]
     },
     "execution_count": 61,
     "metadata": {},
     "output_type": "execute_result"
    }
   ],
   "source": [
    "recur_subarray(nums,8)"
   ]
  },
  {
   "cell_type": "code",
   "execution_count": null,
   "id": "a17ab67f",
   "metadata": {},
   "outputs": [],
   "source": []
  }
 ],
 "metadata": {
  "kernelspec": {
   "display_name": "Python 3 (ipykernel)",
   "language": "python",
   "name": "python3"
  },
  "language_info": {
   "codemirror_mode": {
    "name": "ipython",
    "version": 3
   },
   "file_extension": ".py",
   "mimetype": "text/x-python",
   "name": "python",
   "nbconvert_exporter": "python",
   "pygments_lexer": "ipython3",
   "version": "3.9.12"
  }
 },
 "nbformat": 4,
 "nbformat_minor": 5
}
