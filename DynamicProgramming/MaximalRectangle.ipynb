{
 "cells": [
  {
   "cell_type": "raw",
   "id": "16e96e54",
   "metadata": {},
   "source": [
    "https://leetcode.com/problems/maximal-rectangle/"
   ]
  },
  {
   "cell_type": "raw",
   "id": "b7e147cd",
   "metadata": {},
   "source": [
    "Given a rows x cols binary matrix filled with 0's and 1's, find the largest rectangle containing only 1's and return its area.\n",
    "\n",
    " "
   ]
  },
  {
   "cell_type": "code",
   "execution_count": 2,
   "id": "ec4ffd59",
   "metadata": {},
   "outputs": [],
   "source": [
    "matrix = [[\"1\",\"0\",\"1\",\"0\",\"0\"],[\"1\",\"0\",\"1\",\"1\",\"1\"],[\"1\",\"1\",\"1\",\"1\",\"1\"],[\"1\",\"0\",\"0\",\"1\",\"0\"]]\n",
    "Output: 6"
   ]
  },
  {
   "cell_type": "code",
   "execution_count": 9,
   "id": "77bf5694",
   "metadata": {},
   "outputs": [],
   "source": [
    "# res = {}\n",
    "\n",
    "# breadth = len(matrix)\n",
    "# length = len(matrix[0])\n",
    "    \n",
    "# def dfs(matrix, i,j, res):\n",
    "#     if [[i,j]] not in res:\n",
    "#         res[[i,j]] = visited\n",
    "        \n",
    "#         if i - 1 >= 0 and j - 1 >= 0 and i < len(matrix) and j < len(marix[0]):\n",
    "            \n",
    "#             dfs(matrix, i-1,j, res)\n",
    "#             dfs(matrix,i-1, j-1, res)\n",
    "#             dfs(matrix,i, j-1, res)\n",
    "\n",
    "#             dfs(matrix, i-1,j+1, res)\n",
    "#             dfs(matrix, i,j+1, res)\n",
    "            \n",
    "#             dfs(matrix, i+1,j+1, res)\n",
    "            \n",
    "#             dfs(matrix, i+1,j, res)\n",
    "#             dfs(matrix, i+1,j-1, res)\n",
    "\n",
    "          "
   ]
  },
  {
   "cell_type": "code",
   "execution_count": 28,
   "id": "d2eadc17",
   "metadata": {},
   "outputs": [],
   "source": [
    "def dfs(matrix, visited, row, col):\n",
    "    # Define the directions for moving (up, down, left, right)\n",
    "    directions = [(1, 0), (-1, 0), (0, 1), (0, -1)]\n",
    "    \n",
    "    # Mark the current cell as visited\n",
    "    visited[row][col] = True\n",
    "    \n",
    "    # Process the current cell (print or do something else)\n",
    "    print(matrix[row][col])\n",
    "\n",
    "    # Recursively visit adjacent cells\n",
    "    for dr, dc in directions:\n",
    "        new_row, new_col = row + dr, col + dc\n",
    "        print()\n",
    "\n",
    "        # Check if the new position is within bounds and not visited\n",
    "        if 0 <= new_row < len(matrix) and 0 <= new_col < len(matrix[0]) and not visited[new_row][new_col] and matrix[new_row][new_col] == '1' :\n",
    "            dfs(matrix, visited, new_row, new_col)"
   ]
  },
  {
   "cell_type": "code",
   "execution_count": 29,
   "id": "12b43253",
   "metadata": {},
   "outputs": [],
   "source": [
    "rows, cols = len(matrix), len(matrix[0])\n",
    "visited = [[False for _ in range(cols)] for _ in range(rows)]\n"
   ]
  },
  {
   "cell_type": "code",
   "execution_count": 30,
   "id": "38c8aea0",
   "metadata": {},
   "outputs": [
    {
     "name": "stdout",
     "output_type": "stream",
     "text": [
      "Depth-First Search (DFS) in 2D Matrix:\n",
      "1\n",
      "1\n",
      "1\n",
      "1\n",
      "1\n",
      "1\n",
      "1\n",
      "1\n",
      "1\n",
      "1\n",
      "1\n",
      "1\n",
      "1\n"
     ]
    }
   ],
   "source": [
    "print(\"Depth-First Search (DFS) in 2D Matrix:\")\n",
    "dfs(matrix, visited, 0, 0)"
   ]
  },
  {
   "cell_type": "code",
   "execution_count": 23,
   "id": "e1c6802d",
   "metadata": {},
   "outputs": [
    {
     "data": {
      "text/plain": [
       "[['1', '0', '1', '0', '0'],\n",
       " ['1', '0', '1', '1', '1'],\n",
       " ['1', '1', '1', '1', '1'],\n",
       " ['1', '0', '0', '1', '0']]"
      ]
     },
     "execution_count": 23,
     "metadata": {},
     "output_type": "execute_result"
    }
   ],
   "source": [
    "matrix"
   ]
  },
  {
   "cell_type": "code",
   "execution_count": 31,
   "id": "7dba7c89",
   "metadata": {},
   "outputs": [
    {
     "data": {
      "text/plain": [
       "[[True, False, True, False, False],\n",
       " [True, False, True, True, True],\n",
       " [True, True, True, True, True],\n",
       " [True, False, False, True, False]]"
      ]
     },
     "execution_count": 31,
     "metadata": {},
     "output_type": "execute_result"
    }
   ],
   "source": [
    "visited"
   ]
  },
  {
   "cell_type": "code",
   "execution_count": null,
   "id": "3b9fca16",
   "metadata": {},
   "outputs": [],
   "source": []
  }
 ],
 "metadata": {
  "kernelspec": {
   "display_name": "Python 3 (ipykernel)",
   "language": "python",
   "name": "python3"
  },
  "language_info": {
   "codemirror_mode": {
    "name": "ipython",
    "version": 3
   },
   "file_extension": ".py",
   "mimetype": "text/x-python",
   "name": "python",
   "nbconvert_exporter": "python",
   "pygments_lexer": "ipython3",
   "version": "3.9.12"
  }
 },
 "nbformat": 4,
 "nbformat_minor": 5
}
