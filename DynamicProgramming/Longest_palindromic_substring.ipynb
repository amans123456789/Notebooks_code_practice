{
 "cells": [
  {
   "cell_type": "code",
   "execution_count": 1,
   "id": "97cf62b6",
   "metadata": {},
   "outputs": [],
   "source": [
    "import pandas as pd"
   ]
  },
  {
   "cell_type": "markdown",
   "id": "86abcdbc",
   "metadata": {},
   "source": [
    "Given a string s, return the longest palindromic"
   ]
  },
  {
   "cell_type": "code",
   "execution_count": 42,
   "id": "76dfa6e9",
   "metadata": {},
   "outputs": [],
   "source": [
    "# s =\"babad\"\n",
    "s = \"cbbd\""
   ]
  },
  {
   "cell_type": "code",
   "execution_count": 43,
   "id": "55560aca",
   "metadata": {},
   "outputs": [],
   "source": [
    "def palindrome(s):\n",
    "    l = i -1\n",
    "    r = i + 1\n",
    "    \n",
    "    while s[l] == s[i] and l > 0:\n",
    "        l = l- 1\n",
    "    while s[r] == s[i] and r < len(s):\n",
    "        r = r + 1\n",
    "        \n",
    "    while s[r] == s[l] and l > 0 and r < len(s):\n",
    "        l = l - 1\n",
    "        r = r + 1\n",
    "    \n",
    "    return r , l"
   ]
  },
  {
   "cell_type": "code",
   "execution_count": 44,
   "id": "597856dd",
   "metadata": {},
   "outputs": [
    {
     "data": {
      "text/plain": [
       "(3, 0)"
      ]
     },
     "execution_count": 44,
     "metadata": {},
     "output_type": "execute_result"
    }
   ],
   "source": [
    "palindrome(s, 1)"
   ]
  },
  {
   "cell_type": "code",
   "execution_count": 32,
   "id": "57a5c95c",
   "metadata": {},
   "outputs": [],
   "source": [
    "for i in range(1,len(s)-1):\n",
    "    n = len(s)\n",
    "    dp = [0 for i in range(n)]\n",
    "    dp = palindrome(s,i,dp)"
   ]
  },
  {
   "cell_type": "code",
   "execution_count": 33,
   "id": "c0fda8fa",
   "metadata": {},
   "outputs": [
    {
     "data": {
      "text/plain": [
       "[0, 0, 0, 0]"
      ]
     },
     "execution_count": 33,
     "metadata": {},
     "output_type": "execute_result"
    }
   ],
   "source": [
    "dp"
   ]
  },
  {
   "cell_type": "code",
   "execution_count": null,
   "id": "9fad14ae",
   "metadata": {},
   "outputs": [],
   "source": []
  }
 ],
 "metadata": {
  "kernelspec": {
   "display_name": "Python 3 (ipykernel)",
   "language": "python",
   "name": "python3"
  },
  "language_info": {
   "codemirror_mode": {
    "name": "ipython",
    "version": 3
   },
   "file_extension": ".py",
   "mimetype": "text/x-python",
   "name": "python",
   "nbconvert_exporter": "python",
   "pygments_lexer": "ipython3",
   "version": "3.9.12"
  }
 },
 "nbformat": 4,
 "nbformat_minor": 5
}
