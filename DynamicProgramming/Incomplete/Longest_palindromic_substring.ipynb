{
 "cells": [
  {
   "cell_type": "code",
   "execution_count": 1,
   "id": "b8fc250d",
   "metadata": {},
   "outputs": [],
   "source": [
    "import pandas as pd"
   ]
  },
  {
   "cell_type": "markdown",
   "id": "3ad73d69",
   "metadata": {},
   "source": [
    "Given a string s, return the longest palindromic"
   ]
  },
  {
   "cell_type": "code",
   "execution_count": 4,
   "id": "2456cfce",
   "metadata": {},
   "outputs": [],
   "source": [
    "s =\"babad\""
   ]
  },
  {
   "cell_type": "code",
   "execution_count": 8,
   "id": "54ee03b0",
   "metadata": {},
   "outputs": [
    {
     "data": {
      "text/plain": [
       "[[0, 0, 0, 0, 0, 0],\n",
       " [0, 0, 0, 0, 0, 0],\n",
       " [0, 0, 0, 0, 0, 0],\n",
       " [0, 0, 0, 0, 0, 0],\n",
       " [0, 0, 0, 0, 0, 0],\n",
       " [0, 0, 0, 0, 0, 0]]"
      ]
     },
     "execution_count": 8,
     "metadata": {},
     "output_type": "execute_result"
    }
   ],
   "source": [
    "[[0 for i in range(len(s)+1)] for j in range(len(s)+1)]\n"
   ]
  },
  {
   "cell_type": "code",
   "execution_count": 19,
   "id": "d1de67a2",
   "metadata": {},
   "outputs": [],
   "source": [
    "def palindrome(s, center, dp):\n",
    "    n = len(s)\n",
    "    dp = [0 for i in range(n)]\n",
    "    for i in range(1,n-1):\n",
    "        if s[i-1] == s[i+1]:\n",
    "            dp[i] = dp[i-1] + 1\n",
    "#                 dp[i+1][j+1] = dp[i][j] + 1\n",
    "\n",
    "    return dp"
   ]
  },
  {
   "cell_type": "code",
   "execution_count": 20,
   "id": "5c3ae021",
   "metadata": {},
   "outputs": [
    {
     "ename": "TypeError",
     "evalue": "palindrome() missing 1 required positional argument: 'center'",
     "output_type": "error",
     "traceback": [
      "\u001b[1;31m---------------------------------------------------------------------------\u001b[0m",
      "\u001b[1;31mTypeError\u001b[0m                                 Traceback (most recent call last)",
      "Input \u001b[1;32mIn [20]\u001b[0m, in \u001b[0;36m<cell line: 1>\u001b[1;34m()\u001b[0m\n\u001b[1;32m----> 1\u001b[0m \u001b[43mpalindrome\u001b[49m\u001b[43m(\u001b[49m\u001b[43ms\u001b[49m\u001b[43m)\u001b[49m\n",
      "\u001b[1;31mTypeError\u001b[0m: palindrome() missing 1 required positional argument: 'center'"
     ]
    }
   ],
   "source": [
    "for i in range\n",
    "palindrome(s)"
   ]
  },
  {
   "cell_type": "code",
   "execution_count": null,
   "id": "5cab2332",
   "metadata": {},
   "outputs": [],
   "source": []
  }
 ],
 "metadata": {
  "kernelspec": {
   "display_name": "Python 3 (ipykernel)",
   "language": "python",
   "name": "python3"
  },
  "language_info": {
   "codemirror_mode": {
    "name": "ipython",
    "version": 3
   },
   "file_extension": ".py",
   "mimetype": "text/x-python",
   "name": "python",
   "nbconvert_exporter": "python",
   "pygments_lexer": "ipython3",
   "version": "3.9.12"
  }
 },
 "nbformat": 4,
 "nbformat_minor": 5
}
