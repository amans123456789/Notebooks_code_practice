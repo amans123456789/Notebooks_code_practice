{
 "cells": [
  {
   "cell_type": "markdown",
   "id": "a5917148",
   "metadata": {},
   "source": [
    "Given an integer array nums, return all the triplets [nums[i], nums[j], nums[k]] such that i != j, i != k, and j != k, and nums[i] + nums[j] + nums[k] == 0.\n",
    "\n",
    "Notice that the solution set must not contain duplicate triplets."
   ]
  },
  {
   "cell_type": "raw",
   "id": "741b6310",
   "metadata": {},
   "source": [
    "https://leetcode.com/problems/3sum/"
   ]
  },
  {
   "cell_type": "markdown",
   "id": "049b907e",
   "metadata": {},
   "source": [
    "### Below solution timed out"
   ]
  },
  {
   "cell_type": "code",
   "execution_count": 1,
   "id": "e3e1839a",
   "metadata": {},
   "outputs": [],
   "source": [
    "nums = [-1,0,1,2,-1,-4]\n",
    "nums = [0,0,0]\n",
    "nums = [-1,0,1,2,-1,-4,-2,-3,3,0,4]\n",
    "\n",
    "Expected : [[-4,0,4],[-4,1,3],[-3,-1,4],[-3,0,3],[-3,1,2],[-2,-1,3],[-2,0,2],[-1,-1,2],[-1,0,1]]\n",
    "# Output: [[-1,-1,2],[-1,0,1]]"
   ]
  },
  {
   "cell_type": "code",
   "execution_count": 2,
   "id": "9ec19248",
   "metadata": {},
   "outputs": [
    {
     "data": {
      "text/plain": [
       "[[-1, -1, -1, -1, -1, -1, -1, -1, -1, -1, -1, -1],\n",
       " [-1, -1, -1, -1, -1, -1, -1, -1, -1, -1, -1, -1],\n",
       " [-1, -1, -1, -1, -1, -1, -1, -1, -1, -1, -1, -1],\n",
       " [-1, -1, -1, -1, -1, -1, -1, -1, -1, -1, -1, -1],\n",
       " [-1, -1, -1, -1, -1, -1, -1, -1, -1, -1, -1, -1],\n",
       " [-1, -1, -1, -1, -1, -1, -1, -1, -1, -1, -1, -1],\n",
       " [-1, -1, -1, -1, -1, -1, -1, -1, -1, -1, -1, -1],\n",
       " [-1, -1, -1, -1, -1, -1, -1, -1, -1, -1, -1, -1],\n",
       " [-1, -1, -1, -1, -1, -1, -1, -1, -1, -1, -1, -1],\n",
       " [-1, -1, -1, -1, -1, -1, -1, -1, -1, -1, -1, -1],\n",
       " [-1, -1, -1, -1, -1, -1, -1, -1, -1, -1, -1, -1],\n",
       " [-1, -1, -1, -1, -1, -1, -1, -1, -1, -1, -1, -1]]"
      ]
     },
     "execution_count": 2,
     "metadata": {},
     "output_type": "execute_result"
    }
   ],
   "source": [
    "dp = [[-1 for i in range(len(nums)+1)] for j in range(len(nums)+1)]\n",
    "dp"
   ]
  },
  {
   "cell_type": "code",
   "execution_count": 3,
   "id": "ccdc2fb1",
   "metadata": {},
   "outputs": [],
   "source": [
    "# res = {}\n",
    "# fin = []\n",
    "# def double_sum(nums):\n",
    "    \n",
    "    \n",
    "#     for i in range(len(nums)):\n",
    "#         for j in range(len(nums)):\n",
    "#             if i != j:\n",
    "#                 s = nums[i] + nums[j]\n",
    "#                 if s not in res:\n",
    "#                     res[s] = [i,j]\n",
    "#     print(res)\n",
    "#     for i in res:\n",
    "# #         print(i)\n",
    "#         if -i in nums :\n",
    "#             pos = [j for j,val in enumerate(nums) if val==-i]\n",
    "#             main_ls = list(set(pos) - set(res[i]))\n",
    "# #             print(main_ls)\n",
    "#             if main_ls:\n",
    "                \n",
    "# #             print(-i, nums[res[i][0]], nums[res[i][1]])\n",
    "\n",
    "#                 a = [-i, nums[res[i][0]], nums[res[i][1]]]\n",
    "#                 a.sort()\n",
    "#                 if a not in fin:\n",
    "#                     fin.append(a)\n",
    "#     return fin\n",
    "#             print(\"o\")\n",
    "#             print(-i, nums.index(-i))"
   ]
  },
  {
   "cell_type": "code",
   "execution_count": 32,
   "id": "54d18f9f",
   "metadata": {},
   "outputs": [],
   "source": [
    "res = {}\n",
    "fin = []\n",
    "def double_sum(nums):\n",
    "    \n",
    "    \n",
    "    for i in range(len(nums)):\n",
    "        res[i] = {}\n",
    "        for j in range(i,len(nums)):\n",
    "            if i != j:\n",
    "                s = nums[i] + nums[j]\n",
    "                \n",
    "                if j not in res[i]:\n",
    "                    res[i][j] = s\n",
    "    print(res)\n",
    "    for i in res:\n",
    "        for j in res[i]:\n",
    "            if -res[i][j] in nums:\n",
    "                if nums.index(-res[i][j]) != i and nums.index(-res[i][j]) != j:\n",
    "                    main_ls = [nums[i], nums[j], -res[i][j]]\n",
    "                    main_ls.sort()\n",
    "                    if main_ls not in fin:\n",
    "                        fin.append(main_ls)\n",
    "\n",
    "    return fin"
   ]
  },
  {
   "cell_type": "code",
   "execution_count": 33,
   "id": "4b5b2eb0",
   "metadata": {},
   "outputs": [],
   "source": [
    "nums = [-1,0,1,2,-1,-4,-2,-3,3,0,4]"
   ]
  },
  {
   "cell_type": "code",
   "execution_count": 34,
   "id": "4dfb31a0",
   "metadata": {},
   "outputs": [
    {
     "name": "stdout",
     "output_type": "stream",
     "text": [
      "{0: {1: -1, 2: 0, 3: 1, 4: -2, 5: -5, 6: -3, 7: -4, 8: 2, 9: -1, 10: 3}, 1: {2: 1, 3: 2, 4: -1, 5: -4, 6: -2, 7: -3, 8: 3, 9: 0, 10: 4}, 2: {3: 3, 4: 0, 5: -3, 6: -1, 7: -2, 8: 4, 9: 1, 10: 5}, 3: {4: 1, 5: -2, 6: 0, 7: -1, 8: 5, 9: 2, 10: 6}, 4: {5: -5, 6: -3, 7: -4, 8: 2, 9: -1, 10: 3}, 5: {6: -6, 7: -7, 8: -1, 9: -4, 10: 0}, 6: {7: -5, 8: 1, 9: -2, 10: 2}, 7: {8: 0, 9: -3, 10: 1}, 8: {9: 3, 10: 7}, 9: {10: 4}, 10: {}}\n"
     ]
    },
    {
     "data": {
      "text/plain": [
       "[[-1, 0, 1],\n",
       " [-1, -1, 2],\n",
       " [-2, -1, 3],\n",
       " [-3, -1, 4],\n",
       " [-2, 0, 2],\n",
       " [-4, 0, 4],\n",
       " [-3, 0, 3],\n",
       " [-3, 1, 2],\n",
       " [-4, 1, 3]]"
      ]
     },
     "execution_count": 34,
     "metadata": {},
     "output_type": "execute_result"
    }
   ],
   "source": [
    "double_sum(nums)"
   ]
  },
  {
   "cell_type": "code",
   "execution_count": 156,
   "id": "6fe2c599",
   "metadata": {},
   "outputs": [
    {
     "data": {
      "text/plain": [
       "[]"
      ]
     },
     "execution_count": 156,
     "metadata": {},
     "output_type": "execute_result"
    }
   ],
   "source": [
    "fin"
   ]
  },
  {
   "cell_type": "code",
   "execution_count": null,
   "id": "5b1c6c6e",
   "metadata": {},
   "outputs": [],
   "source": []
  },
  {
   "cell_type": "code",
   "execution_count": 95,
   "id": "15f1ae66",
   "metadata": {},
   "outputs": [],
   "source": [
    "def triple_sum(nums):\n",
    "    res = []\n",
    "    dp = [[-1 for i in range(len(nums))] for j in range(len(nums))]\n",
    "    for i in range(len(nums)):\n",
    "        for j in range(len(nums)):\n",
    "#             print(i,j)\n",
    "            dp[i][j] = nums[i] + nums[j]\n",
    "    print(dp)\n",
    "    for i in range(len(nums)):\n",
    "        for j in range(len(nums)):\n",
    "            \n",
    "            if -1 * dp[i][j] in nums and i != j:\n",
    "                print([-dp[i][j], nums[i], nums[j]], i,j)\n",
    "                a = [dp[i][j], nums[i], nums[j]]\n",
    "                a.sort()\n",
    "                if a not in res:\n",
    "                    res.append(a)\n",
    "    return res"
   ]
  },
  {
   "cell_type": "code",
   "execution_count": 96,
   "id": "cb6bb219",
   "metadata": {},
   "outputs": [
    {
     "name": "stdout",
     "output_type": "stream",
     "text": [
      "[[-2, -1, 0, 1, -2, -5], [-1, 0, 1, 2, -1, -4], [0, 1, 2, 3, 0, -3], [1, 2, 3, 4, 1, -2], [-2, -1, 0, 1, -2, -5], [-5, -4, -3, -2, -5, -8]]\n",
      "[1, -1, 0] 0 1\n",
      "[0, -1, 1] 0 2\n",
      "[-1, -1, 2] 0 3\n",
      "[2, -1, -1] 0 4\n",
      "[1, 0, -1] 1 0\n",
      "[-1, 0, 1] 1 2\n",
      "[1, 0, -1] 1 4\n",
      "[0, 1, -1] 2 0\n",
      "[-1, 1, 0] 2 1\n",
      "[0, 1, -1] 2 4\n",
      "[-1, 2, -1] 3 0\n",
      "[-1, 2, -1] 3 4\n",
      "[2, 2, -4] 3 5\n",
      "[2, -1, -1] 4 0\n",
      "[1, -1, 0] 4 1\n",
      "[0, -1, 1] 4 2\n",
      "[-1, -1, 2] 4 3\n",
      "[2, -4, 2] 5 3\n"
     ]
    }
   ],
   "source": [
    "a = triple_sum(nums)"
   ]
  },
  {
   "cell_type": "code",
   "execution_count": 97,
   "id": "2caffacc",
   "metadata": {},
   "outputs": [
    {
     "data": {
      "text/plain": [
       "[[-1, -1, 0], [-1, 0, 1], [-1, 1, 2], [-2, -1, -1], [0, 1, 1], [-4, -2, 2]]"
      ]
     },
     "execution_count": 97,
     "metadata": {},
     "output_type": "execute_result"
    }
   ],
   "source": [
    "a"
   ]
  },
  {
   "cell_type": "markdown",
   "id": "d9ba82bc",
   "metadata": {},
   "source": [
    "### Leetcode Solution"
   ]
  },
  {
   "cell_type": "raw",
   "id": "aa045fd9",
   "metadata": {},
   "source": [
    "https://leetcode.com/problems/3sum/solutions/7392/python-easy-to-understand-solution-o-n-n-time/"
   ]
  },
  {
   "cell_type": "code",
   "execution_count": null,
   "id": "dd4416c3",
   "metadata": {},
   "outputs": [],
   "source": [
    "def threeSum(self, nums):\n",
    "    nums.sort()\n",
    "    result = []\n",
    "    for left in range(len(nums) - 2): # renamed this to left because this will always be the leftmost pointer in the triplet\n",
    "        if left > 0 and nums[left] == nums[left - 1]: # this step makes sure that we do not have any duplicates in our result output\n",
    "            continue \n",
    "        mid = left + 1 # renamed this to mid because this is the pointer that is between the left and right pointers\n",
    "        right = len(nums) - 1\n",
    "        while mid < right:\n",
    "            curr_sum = nums[left] + nums[mid] + nums[right]\n",
    "            if curr_sum < 0:\n",
    "                mid += 1 \n",
    "            elif curr_sum > 0:\n",
    "                right -= 1\n",
    "            else:\n",
    "                result.append([nums[left], nums[mid], nums[right]])\n",
    "                while mid < right and nums[mid] == nums[mid + 1]: # Another conditional for not calculating duplicates\n",
    "                    mid += 1\n",
    "                while mid < right and nums[right] == nums[right - 1]: # Avoiding duplicates check\n",
    "                    right -= 1\n",
    "                mid += 1\n",
    "                right -= 1\n",
    "    return result"
   ]
  },
  {
   "cell_type": "raw",
   "id": "dc116e5f",
   "metadata": {},
   "source": [
    "https://leetcode.com/problems/3sum/solutions/2628512/python-easy-solution-using-two-pointers/"
   ]
  },
  {
   "cell_type": "code",
   "execution_count": 36,
   "id": "5daab9db",
   "metadata": {},
   "outputs": [],
   "source": [
    "class Solution:\n",
    "    def threeSum(self, nums) :\n",
    "        n=len(nums)\n",
    "        a=[]\n",
    "        nums.sort()\n",
    "        for i in range(n):\n",
    "            if i>0 and nums[i]==nums[i-1]:\n",
    "                continue\n",
    "            l,r = i+1, n-1\n",
    "            while l<r:\n",
    "                s=nums[i]+nums[l]+nums[r]\n",
    "                if s>0:\n",
    "                    r-=1\n",
    "                elif s<0:\n",
    "                    l+=1\n",
    "                else:\n",
    "                    b=[nums[i],nums[l],nums[r]]\n",
    "                    if b not in a:\n",
    "                        a.append(b)\n",
    "                    l+=1               \n",
    "        return a"
   ]
  },
  {
   "cell_type": "code",
   "execution_count": null,
   "id": "8b1fd3c5",
   "metadata": {},
   "outputs": [],
   "source": []
  }
 ],
 "metadata": {
  "kernelspec": {
   "display_name": "Python 3 (ipykernel)",
   "language": "python",
   "name": "python3"
  },
  "language_info": {
   "codemirror_mode": {
    "name": "ipython",
    "version": 3
   },
   "file_extension": ".py",
   "mimetype": "text/x-python",
   "name": "python",
   "nbconvert_exporter": "python",
   "pygments_lexer": "ipython3",
   "version": "3.9.12"
  }
 },
 "nbformat": 4,
 "nbformat_minor": 5
}
